{
 "cells": [
  {
   "cell_type": "markdown",
   "id": "b724db8a",
   "metadata": {},
   "source": [
    "## COVID-19 Country Clustering Analysis"
   ]
  },
  {
   "cell_type": "markdown",
   "id": "0de16329",
   "metadata": {},
   "source": [
    "## Importing Relevant Library"
   ]
  },
  {
   "cell_type": "code",
   "execution_count": 1,
   "id": "be37de49",
   "metadata": {},
   "outputs": [],
   "source": [
    "import pandas as pd\n",
    "import matplotlib.pyplot as plt\n",
    "%matplotlib inline\n",
    "import seaborn as sns\n",
    "from sklearn.cluster import KMeans\n",
    "from sklearn import preprocessing\n",
    "from sklearn import metrics\n",
    "from tabulate import tabulate\n",
    "import warnings\n",
    "warnings.filterwarnings('ignore')\n",
    "pd.set_option('display.max_rows', None)\n",
    "pd.set_option('display.max_columns', None)\n",
    "import gc\n",
    "import re\n",
    "import dash\n",
    "from dash import dcc, html, Input, Output\n",
    "import pandas as pd\n",
    "import plotly.express as px\n",
    "from wordcloud import WordCloud\n",
    "import matplotlib.pyplot as plt"
   ]
  },
  {
   "cell_type": "markdown",
   "id": "1074bdd2",
   "metadata": {},
   "source": [
    "## Importing and Merging Datasets for Analysis"
   ]
  },
  {
   "cell_type": "markdown",
   "id": "13d4d9a8",
   "metadata": {},
   "source": [
    "The data was aggregated and collected from https://health.google.com/covid-19/open-data/. \n",
    "The Google Health COVID-19 Open Data Repository is one of the most comprehensive collections of up-to-date COVID-19-related information. Comprising data from more than 20,000 locations worldwide, it contains a rich variety of data types to help public health professionals, researchers, policymakers and others in understanding and managing the virus.\n",
    "\n",
    "Datasets will be imported and merged sequentially to optimize memory usage due to the large volume of the datasets."
   ]
  },
  {
   "cell_type": "markdown",
   "id": "80e7edae",
   "metadata": {},
   "source": [
    "**Theme of the Paper: Country Performance during Two Years of the Pandemic**\n",
    "\n",
    "Looking back/contemplating on the country performance during the pandemic and clustering it into several different clusters to draw insights and lessons learned that might be applicable for the future pandemic."
   ]
  },
  {
   "cell_type": "markdown",
   "id": "a7c0ded4",
   "metadata": {},
   "source": [
    "### 0. Preparing Dataset Identifier"
   ]
  },
  {
   "cell_type": "code",
   "execution_count": 2,
   "id": "6107daff",
   "metadata": {},
   "outputs": [],
   "source": [
    "index = pd.read_csv('index.csv')\n",
    "index = index[['country_code','country_name']]\n",
    "index.rename(columns={'country_code': 'location_key'}, inplace=True)"
   ]
  },
  {
   "cell_type": "code",
   "execution_count": 3,
   "id": "57bd9dba",
   "metadata": {},
   "outputs": [],
   "source": [
    "index = index[index['location_key'].str.len() == 2]\n",
    "index = index.drop_duplicates()"
   ]
  },
  {
   "cell_type": "markdown",
   "id": "9f8413bd",
   "metadata": {},
   "source": [
    "### **1. Importing and Preparing epidemiology dataset**"
   ]
  },
  {
   "cell_type": "code",
   "execution_count": 4,
   "id": "9d6ad123",
   "metadata": {},
   "outputs": [],
   "source": [
    "# Importing epidemiology dataset\n",
    "epidemiology = pd.read_csv(\"epidemiology.csv\")"
   ]
  },
  {
   "cell_type": "markdown",
   "id": "69c403a3",
   "metadata": {},
   "source": [
    "**Checking the epidemiology dataset timeframe**"
   ]
  },
  {
   "cell_type": "code",
   "execution_count": 5,
   "id": "6dafbbdc",
   "metadata": {},
   "outputs": [],
   "source": [
    "# Converting date variable into date format\n",
    "epidemiology['date'] = pd.to_datetime(epidemiology['date'])"
   ]
  },
  {
   "cell_type": "markdown",
   "id": "694a03ab",
   "metadata": {},
   "source": [
    "The clustering analysis would take scope between the first global pandemic declaration from WHO on March 2020 two years later at March 2022."
   ]
  },
  {
   "cell_type": "markdown",
   "id": "a4260be1",
   "metadata": {},
   "source": [
    "**Filtering the dataset to reflect the scope and grouping the epidemiology data based on the location**"
   ]
  },
  {
   "cell_type": "code",
   "execution_count": 6,
   "id": "8a18b6f5",
   "metadata": {},
   "outputs": [],
   "source": [
    "# Define the start and end dates\n",
    "start_date = pd.to_datetime('2020-03-11')\n",
    "end_date = pd.to_datetime('2022-03-11')\n",
    "\n",
    "# Filter the DataFrame based on the date range\n",
    "epidemiology = epidemiology[(epidemiology['date'] >= start_date) & (epidemiology['date'] <= end_date)]"
   ]
  },
  {
   "cell_type": "code",
   "execution_count": 7,
   "id": "f7b85f54",
   "metadata": {},
   "outputs": [],
   "source": [
    "grouped = epidemiology.groupby('location_key')[['cumulative_confirmed', 'cumulative_deceased', \n",
    "                                                'cumulative_recovered', 'cumulative_tested']].max()\n",
    "grouped = grouped.reset_index()"
   ]
  },
  {
   "cell_type": "markdown",
   "id": "6b00323b",
   "metadata": {},
   "source": [
    "**Filtering to only country level aggregate**"
   ]
  },
  {
   "cell_type": "code",
   "execution_count": 8,
   "id": "1a78fd79",
   "metadata": {},
   "outputs": [],
   "source": [
    "filtered_grouped = grouped[grouped['location_key'].str.len() == 2]"
   ]
  },
  {
   "cell_type": "markdown",
   "id": "06dee45f",
   "metadata": {},
   "source": [
    "**Handling missing data**"
   ]
  },
  {
   "cell_type": "code",
   "execution_count": 9,
   "id": "1c7db849",
   "metadata": {},
   "outputs": [],
   "source": [
    "missing_recovered = filtered_grouped[filtered_grouped['cumulative_recovered'].isna()]['location_key']"
   ]
  },
  {
   "cell_type": "code",
   "execution_count": 10,
   "id": "fde35195",
   "metadata": {},
   "outputs": [],
   "source": [
    "country_cumulative_recovered = {}\n",
    "\n",
    "for code in missing_recovered:\n",
    "    cumulative_recovered = grouped.loc[grouped['location_key'].str.contains('^' + code), 'cumulative_recovered'].sum()\n",
    "    country_cumulative_recovered[code] = cumulative_recovered\n",
    "\n",
    "# Convert dictionary to DataFrame\n",
    "country_cumulative_recovered = pd.DataFrame.from_dict(country_cumulative_recovered, orient='index', columns=['cumulative_recovered'])"
   ]
  },
  {
   "cell_type": "code",
   "execution_count": 11,
   "id": "00458286",
   "metadata": {},
   "outputs": [],
   "source": [
    "missing_tested = filtered_grouped[filtered_grouped['cumulative_tested'].isna()]['location_key']"
   ]
  },
  {
   "cell_type": "code",
   "execution_count": 12,
   "id": "27526587",
   "metadata": {},
   "outputs": [],
   "source": [
    "country_cumulative_tested = {}\n",
    "\n",
    "for test in missing_tested:\n",
    "    cumulative_tested = grouped.loc[grouped['location_key'].str.contains('^' + test), 'cumulative_tested'].sum()\n",
    "    country_cumulative_tested[test] = cumulative_tested\n",
    "\n",
    "# Convert dictionary to DataFrame\n",
    "country_cumulative_tested = pd.DataFrame.from_dict(country_cumulative_tested, orient='index', columns=['cumulative_tested'])"
   ]
  },
  {
   "cell_type": "markdown",
   "id": "2f3cc6f4",
   "metadata": {},
   "source": [
    "**Cleaning epidemiology dataset**"
   ]
  },
  {
   "cell_type": "code",
   "execution_count": 13,
   "id": "c84636ef",
   "metadata": {},
   "outputs": [],
   "source": [
    "pattern = '^(' + '|'.join(map(re.escape, missing_tested)) + ')'\n",
    "filtered_grouped = filtered_grouped[~filtered_grouped['location_key'].str.contains(pattern)]"
   ]
  },
  {
   "cell_type": "code",
   "execution_count": 14,
   "id": "42a096a3",
   "metadata": {},
   "outputs": [],
   "source": [
    "filtered_grouped = filtered_grouped[filtered_grouped['location_key'] != 'EH']"
   ]
  },
  {
   "cell_type": "code",
   "execution_count": 15,
   "id": "32fde6b8",
   "metadata": {},
   "outputs": [],
   "source": [
    "filtered_grouped.drop('cumulative_recovered', axis=1, inplace=True)"
   ]
  },
  {
   "cell_type": "code",
   "execution_count": 16,
   "id": "b4462c57",
   "metadata": {},
   "outputs": [],
   "source": [
    "filtered_grouped.reset_index()\n",
    "pd.set_option('display.float_format', '{:.2f}'.format)"
   ]
  },
  {
   "cell_type": "code",
   "execution_count": 17,
   "id": "154c1b92",
   "metadata": {},
   "outputs": [],
   "source": [
    "country = filtered_grouped"
   ]
  },
  {
   "cell_type": "markdown",
   "id": "455b2626",
   "metadata": {},
   "source": [
    "### **2. Merging demographics dataset**"
   ]
  },
  {
   "cell_type": "code",
   "execution_count": 18,
   "id": "bde498da",
   "metadata": {},
   "outputs": [],
   "source": [
    "demographics = pd.read_csv(\"demographics.csv\")"
   ]
  },
  {
   "cell_type": "code",
   "execution_count": 19,
   "id": "6f0fc26b",
   "metadata": {},
   "outputs": [],
   "source": [
    "country = country.merge(demographics, on='location_key')"
   ]
  },
  {
   "cell_type": "code",
   "execution_count": 20,
   "id": "aa7d4b61",
   "metadata": {},
   "outputs": [],
   "source": [
    "columns_to_drop = ['population_largest_city', 'population_clustered', 'population_male', 'population_female',\n",
    "                   'population_age_00_09', 'population_age_10_19', 'population_age_20_29', 'population_age_30_39',\n",
    "                   'population_age_40_49', 'population_age_50_59', 'population_age_60_69', 'population_age_70_79',\n",
    "                   'population_age_80_and_older']\n",
    "\n",
    "country.drop(columns_to_drop, axis=1, inplace=True)"
   ]
  },
  {
   "cell_type": "code",
   "execution_count": 21,
   "id": "a10c5da1",
   "metadata": {},
   "outputs": [],
   "source": [
    "country.dropna(subset=['population_rural', 'population_urban', 'human_development_index'], inplace=True)"
   ]
  },
  {
   "cell_type": "markdown",
   "id": "05f0635c",
   "metadata": {},
   "source": [
    "### **3. Merging economy dataset and focusing on variables of interest**"
   ]
  },
  {
   "cell_type": "code",
   "execution_count": 22,
   "id": "f3cfb071",
   "metadata": {},
   "outputs": [],
   "source": [
    "economy = pd.read_csv(\"economy.csv\")"
   ]
  },
  {
   "cell_type": "code",
   "execution_count": 23,
   "id": "e2acb9eb",
   "metadata": {},
   "outputs": [],
   "source": [
    "country = country.merge(economy, on='location_key')"
   ]
  },
  {
   "cell_type": "code",
   "execution_count": 24,
   "id": "fea7a374",
   "metadata": {},
   "outputs": [],
   "source": [
    "country.dropna(subset=['human_capital_index'], inplace=True)"
   ]
  },
  {
   "cell_type": "markdown",
   "id": "e0a521b7",
   "metadata": {},
   "source": [
    "### **4. Merging geography dataset and focusing on variables of interest**"
   ]
  },
  {
   "cell_type": "code",
   "execution_count": 25,
   "id": "e83b394b",
   "metadata": {},
   "outputs": [],
   "source": [
    "geography = pd.read_csv(\"geography.csv\")"
   ]
  },
  {
   "cell_type": "code",
   "execution_count": 26,
   "id": "a28341d7",
   "metadata": {},
   "outputs": [],
   "source": [
    "country = country.merge(geography, on='location_key')"
   ]
  },
  {
   "cell_type": "code",
   "execution_count": 27,
   "id": "377c117d",
   "metadata": {},
   "outputs": [],
   "source": [
    "columns_to_drop = ['openstreetmap_id', 'elevation_m', 'area_rural_sq_km', 'area_urban_sq_km' ]\n",
    "country.drop(columns_to_drop, axis=1, inplace=True)"
   ]
  },
  {
   "cell_type": "markdown",
   "id": "853da62b",
   "metadata": {},
   "source": [
    "### **5. Merging health dataset and focusing on variables of interest**"
   ]
  },
  {
   "cell_type": "code",
   "execution_count": 28,
   "id": "03cbcf6e",
   "metadata": {},
   "outputs": [],
   "source": [
    "health = pd.read_csv(\"health.csv\")"
   ]
  },
  {
   "cell_type": "code",
   "execution_count": 29,
   "id": "25b23fe6",
   "metadata": {},
   "outputs": [],
   "source": [
    "country = country.merge(health, on='location_key')"
   ]
  },
  {
   "cell_type": "code",
   "execution_count": 30,
   "id": "46c25bc3",
   "metadata": {},
   "outputs": [],
   "source": [
    "columns_to_drop = ['hospital_beds_per_1000', 'adult_male_mortality_rate',\n",
    "                   'infant_mortality_rate', 'adult_female_mortality_rate']\n",
    "country.drop(columns_to_drop, axis=1, inplace=True)"
   ]
  },
  {
   "cell_type": "code",
   "execution_count": 31,
   "id": "f941e57f",
   "metadata": {},
   "outputs": [],
   "source": [
    "country.dropna(subset=['smoking_prevalence', 'physicians_per_1000','health_expenditure_usd',\n",
    "                       'out_of_pocket_health_expenditure_usd'], inplace=True)"
   ]
  },
  {
   "cell_type": "markdown",
   "id": "d7782336",
   "metadata": {},
   "source": [
    "### **6. Importing hospitalizations dataset and focusing on variables of interest**"
   ]
  },
  {
   "cell_type": "markdown",
   "id": "15c882e4",
   "metadata": {},
   "source": [
    "Note that this dataset will not be merged into the main dataset ('country') due to the limited observations. This dataset will later be used to reinforce the analysis on certain cluster."
   ]
  },
  {
   "cell_type": "code",
   "execution_count": 32,
   "id": "92db0d28",
   "metadata": {},
   "outputs": [],
   "source": [
    "hospitalizations = pd.read_csv(\"hospitalizations.csv\")"
   ]
  },
  {
   "cell_type": "code",
   "execution_count": 33,
   "id": "7b940cf3",
   "metadata": {},
   "outputs": [],
   "source": [
    "hospitalizations = hospitalizations.groupby('location_key')[['cumulative_hospitalized_patients', 'cumulative_intensive_care_patients', \n",
    "                                                'cumulative_ventilator_patients']].max()\n",
    "hospitalizations = hospitalizations.reset_index()"
   ]
  },
  {
   "cell_type": "code",
   "execution_count": 34,
   "id": "2aa9f373",
   "metadata": {},
   "outputs": [],
   "source": [
    "hosp_country = hospitalizations[hospitalizations['location_key'].str.len() == 2]"
   ]
  },
  {
   "cell_type": "code",
   "execution_count": 35,
   "id": "7947acc9",
   "metadata": {},
   "outputs": [],
   "source": [
    "chp = hosp_country[hosp_country['cumulative_hospitalized_patients'].isna()]['location_key']"
   ]
  },
  {
   "cell_type": "code",
   "execution_count": 36,
   "id": "fff8eaca",
   "metadata": {},
   "outputs": [],
   "source": [
    "chp_hosp = {}\n",
    "\n",
    "for cum in chp:\n",
    "    chp_agg = hospitalizations.loc[hospitalizations['location_key'].str.contains('^' + cum), 'cumulative_hospitalized_patients'].sum()\n",
    "    chp_hosp[cum] = chp_agg\n",
    "\n",
    "# Convert dictionary to DataFrame\n",
    "chp_hosp = pd.DataFrame.from_dict(chp_hosp, orient='index', columns=['chp_agg'])\n",
    "chp_hosp.reset_index(inplace = True)\n",
    "chp_hosp.rename(columns={'index': 'location_key'}, inplace=True)"
   ]
  },
  {
   "cell_type": "markdown",
   "id": "555520dd",
   "metadata": {},
   "source": [
    "Conclusion1: remove observation with null value in the cumulative_hospitalized_patients variables "
   ]
  },
  {
   "cell_type": "code",
   "execution_count": 37,
   "id": "3f7de4e6",
   "metadata": {},
   "outputs": [],
   "source": [
    "cic = hosp_country[hosp_country['cumulative_intensive_care_patients'].isna()]['location_key']"
   ]
  },
  {
   "cell_type": "code",
   "execution_count": 38,
   "id": "09d55449",
   "metadata": {},
   "outputs": [],
   "source": [
    "cic_hosp = {}\n",
    "\n",
    "for cum in cic:\n",
    "    cic_agg = hospitalizations.loc[hospitalizations['location_key'].str.contains('^' + cum), 'cumulative_intensive_care_patients'].sum()\n",
    "    cic_hosp[cum] = cic_agg\n",
    "\n",
    "# Convert dictionary to DataFrame\n",
    "cic_hosp = pd.DataFrame.from_dict(cic_hosp, orient='index', columns=['cic_agg'])\n",
    "cic_hosp.reset_index(inplace = True)\n",
    "cic_hosp.rename(columns={'index': 'location_key'}, inplace=True)"
   ]
  },
  {
   "cell_type": "code",
   "execution_count": 39,
   "id": "e33c6466",
   "metadata": {},
   "outputs": [],
   "source": [
    "hosp_country.loc[hosp_country['location_key'] == 'CH', 'cumulative_intensive_care_patients'] = 730"
   ]
  },
  {
   "cell_type": "markdown",
   "id": "75908af7",
   "metadata": {},
   "source": [
    "conclusion2: removing all observations with zero value in cumulative_intensive_care_patients columns"
   ]
  },
  {
   "cell_type": "code",
   "execution_count": 40,
   "id": "78febdbc",
   "metadata": {},
   "outputs": [],
   "source": [
    "cvp = hosp_country[hosp_country['cumulative_ventilator_patients'].isna()]['location_key']"
   ]
  },
  {
   "cell_type": "code",
   "execution_count": 41,
   "id": "61c4507a",
   "metadata": {},
   "outputs": [],
   "source": [
    "cvp_hosp = {}\n",
    "\n",
    "for cum in cvp:\n",
    "    cvp_agg = hospitalizations.loc[hospitalizations['location_key'].str.contains('^' + cum), 'cumulative_ventilator_patients'].sum()\n",
    "    cvp_hosp[cum] = cvp_agg\n",
    "\n",
    "# Convert dictionary to DataFrame\n",
    "cvp_hosp = pd.DataFrame.from_dict(cvp_hosp, orient='index', columns=['cvp_agg'])\n",
    "cvp_hosp.reset_index(inplace = True)\n",
    "cvp_hosp.rename(columns={'index': 'location_key'}, inplace=True)"
   ]
  },
  {
   "cell_type": "markdown",
   "id": "a7acdfeb",
   "metadata": {},
   "source": [
    "Conclusion3: drop cumulative_ventilator_patients columns"
   ]
  },
  {
   "cell_type": "code",
   "execution_count": 42,
   "id": "f1c7d546",
   "metadata": {},
   "outputs": [],
   "source": [
    "hosp_country.drop('cumulative_ventilator_patients', axis=1, inplace=True)"
   ]
  },
  {
   "cell_type": "code",
   "execution_count": 43,
   "id": "f266248b",
   "metadata": {},
   "outputs": [],
   "source": [
    "hosp_country.dropna(subset=['cumulative_hospitalized_patients', 'cumulative_intensive_care_patients'], inplace=True)"
   ]
  },
  {
   "cell_type": "markdown",
   "id": "19e0d5fc",
   "metadata": {},
   "source": [
    "**Recombine All Hospitalizations Information**"
   ]
  },
  {
   "cell_type": "code",
   "execution_count": 44,
   "id": "37a5b5d5",
   "metadata": {},
   "outputs": [],
   "source": [
    "hospitalizations = hosp_country.merge(cvp_hosp, on='location_key', how='left')"
   ]
  },
  {
   "cell_type": "code",
   "execution_count": 45,
   "id": "3c0b730b",
   "metadata": {},
   "outputs": [],
   "source": [
    "hospitalizations = hospitalizations.merge(chp_hosp, on='location_key', how='left')"
   ]
  },
  {
   "cell_type": "code",
   "execution_count": 46,
   "id": "4dcf1664",
   "metadata": {},
   "outputs": [],
   "source": [
    "hospitalizations = hospitalizations.merge(cic_hosp, on='location_key', how='left')"
   ]
  },
  {
   "cell_type": "markdown",
   "id": "c47fc6af",
   "metadata": {},
   "source": [
    "### **7. Importing government response dataset for country specific intervention analysis**"
   ]
  },
  {
   "cell_type": "markdown",
   "id": "e2c347e1",
   "metadata": {},
   "source": [
    "will only use 'stringency_index' as a proxy for the government response with more in depth analysis after the clustering analysis has been done."
   ]
  },
  {
   "cell_type": "code",
   "execution_count": 47,
   "id": "608621e0",
   "metadata": {},
   "outputs": [],
   "source": [
    "# Importing government response dataset\n",
    "gov_response = pd.read_csv(\"oxford-government-response.csv\")"
   ]
  },
  {
   "cell_type": "code",
   "execution_count": 48,
   "id": "2a5e7b61",
   "metadata": {},
   "outputs": [],
   "source": [
    "# Converting date variable into date format\n",
    "gov_response['date'] = pd.to_datetime(gov_response['date'])"
   ]
  },
  {
   "cell_type": "code",
   "execution_count": 49,
   "id": "cac3c39b",
   "metadata": {},
   "outputs": [],
   "source": [
    "# Define the start and end dates\n",
    "start_date = pd.to_datetime('2020-03-11')\n",
    "end_date = pd.to_datetime('2022-03-11')\n",
    "\n",
    "# Filter the DataFrame based on the date range\n",
    "gov_response = gov_response[(gov_response['date'] >= start_date) & (gov_response['date'] <= end_date)]"
   ]
  },
  {
   "cell_type": "code",
   "execution_count": 50,
   "id": "e711b6cb",
   "metadata": {},
   "outputs": [],
   "source": [
    "grouped = gov_response.groupby('location_key').max()\n",
    "grouped = grouped.reset_index()"
   ]
  },
  {
   "cell_type": "code",
   "execution_count": 51,
   "id": "5172595b",
   "metadata": {},
   "outputs": [],
   "source": [
    "gov_response = grouped[grouped['location_key'].str.len() == 2]"
   ]
  },
  {
   "cell_type": "code",
   "execution_count": 52,
   "id": "cb8ac574",
   "metadata": {},
   "outputs": [],
   "source": [
    "gov_response_merge = gov_response[['location_key','stringency_index']]"
   ]
  },
  {
   "cell_type": "code",
   "execution_count": 53,
   "id": "67c0c8fa",
   "metadata": {},
   "outputs": [],
   "source": [
    "country = country.merge(gov_response_merge, on='location_key', how='left')"
   ]
  },
  {
   "cell_type": "markdown",
   "id": "95336799",
   "metadata": {},
   "source": [
    "### **8. Importing mobility dataset and focusing on variables of interest**"
   ]
  },
  {
   "cell_type": "code",
   "execution_count": 54,
   "id": "56a0be6d",
   "metadata": {},
   "outputs": [],
   "source": [
    "# Importing mobility dataset\n",
    "mobility = pd.read_csv(\"mobility.csv\")"
   ]
  },
  {
   "cell_type": "code",
   "execution_count": 55,
   "id": "0f93070e",
   "metadata": {},
   "outputs": [],
   "source": [
    "# Converting date variable into date format\n",
    "mobility['date'] = pd.to_datetime(mobility['date'])"
   ]
  },
  {
   "cell_type": "code",
   "execution_count": 56,
   "id": "604f776e",
   "metadata": {},
   "outputs": [],
   "source": [
    "# Define the start and end dates\n",
    "start_date = pd.to_datetime('2020-03-11')\n",
    "end_date = pd.to_datetime('2022-03-11')\n",
    "\n",
    "# Filter the DataFrame based on the date range\n",
    "mobility = mobility[(mobility['date'] >= start_date) & (mobility['date'] <= end_date)]"
   ]
  },
  {
   "cell_type": "code",
   "execution_count": 57,
   "id": "f2209225",
   "metadata": {},
   "outputs": [],
   "source": [
    "mob = mobility.groupby('location_key')[['mobility_retail_and_recreation', 'mobility_grocery_and_pharmacy', \n",
    "                                                'mobility_parks', 'mobility_transit_stations','mobility_workplaces',\n",
    "                                       'mobility_residential']].mean()\n",
    "mob = mob.reset_index()"
   ]
  },
  {
   "cell_type": "code",
   "execution_count": 58,
   "id": "f9b38e2e",
   "metadata": {},
   "outputs": [],
   "source": [
    "filtered_mob = mob[mob['location_key'].str.len() == 2]"
   ]
  },
  {
   "cell_type": "code",
   "execution_count": 59,
   "id": "bba100e6",
   "metadata": {},
   "outputs": [],
   "source": [
    "country = country.merge(filtered_mob, on='location_key')"
   ]
  },
  {
   "cell_type": "markdown",
   "id": "d268f562",
   "metadata": {},
   "source": [
    "### 9. Importing weather dataset and focusing on variables of interest**"
   ]
  },
  {
   "cell_type": "code",
   "execution_count": 60,
   "id": "1485e38e",
   "metadata": {},
   "outputs": [],
   "source": [
    "# Importing mobility dataset\n",
    "weather = pd.read_csv(\"weather.csv\")"
   ]
  },
  {
   "cell_type": "code",
   "execution_count": 61,
   "id": "469c628b",
   "metadata": {},
   "outputs": [],
   "source": [
    "# Converting date variable into date format\n",
    "weather['date'] = pd.to_datetime(weather['date'])"
   ]
  },
  {
   "cell_type": "code",
   "execution_count": 62,
   "id": "cc564f3b",
   "metadata": {},
   "outputs": [],
   "source": [
    "# Define the start and end dates\n",
    "start_date = pd.to_datetime('2020-03-11')\n",
    "end_date = pd.to_datetime('2022-03-11')\n",
    "\n",
    "# Filter the DataFrame based on the date range\n",
    "weather = weather[(weather['date'] >= start_date) & (weather['date'] <= end_date)]"
   ]
  },
  {
   "cell_type": "code",
   "execution_count": 63,
   "id": "5fd23270",
   "metadata": {},
   "outputs": [],
   "source": [
    "wet = weather.groupby('location_key')[['average_temperature_celsius', 'rainfall_mm', \n",
    "                                                'dew_point', 'relative_humidity']].mean()\n",
    "wet = wet.reset_index()"
   ]
  },
  {
   "cell_type": "code",
   "execution_count": 64,
   "id": "f45b328f",
   "metadata": {},
   "outputs": [],
   "source": [
    "filtered_wet = wet[wet['location_key'].str.len() == 2]"
   ]
  },
  {
   "cell_type": "code",
   "execution_count": 65,
   "id": "826459df",
   "metadata": {},
   "outputs": [],
   "source": [
    "country = country.merge(filtered_wet, on='location_key')"
   ]
  },
  {
   "cell_type": "markdown",
   "id": "c8fc4061",
   "metadata": {},
   "source": [
    "### 10. Normalizing Population Based Data to Total Population"
   ]
  },
  {
   "cell_type": "code",
   "execution_count": 66,
   "id": "25fa6d39",
   "metadata": {},
   "outputs": [],
   "source": [
    "columns_to_divide = ['cumulative_confirmed', 'cumulative_deceased', \n",
    "                     'cumulative_tested', 'population_rural', 'population_urban']\n",
    "country[columns_to_divide] = country[columns_to_divide].div(country['population'], axis=0)"
   ]
  },
  {
   "cell_type": "markdown",
   "id": "a62894ff",
   "metadata": {},
   "source": [
    "### 11. Dropping Redundant Variables"
   ]
  },
  {
   "cell_type": "code",
   "execution_count": 67,
   "id": "73a337c8",
   "metadata": {},
   "outputs": [],
   "source": [
    "columns_to_drop = ['population', 'gdp_usd', 'out_of_pocket_health_expenditure_usd', \n",
    "                   'dew_point','rainfall_mm']\n",
    "country.drop(columns_to_drop, axis=1, inplace=True)"
   ]
  },
  {
   "cell_type": "markdown",
   "id": "d36d068a",
   "metadata": {},
   "source": [
    "### 11. Deleting original dataset to free up memory space"
   ]
  },
  {
   "cell_type": "code",
   "execution_count": 68,
   "id": "f0175728",
   "metadata": {},
   "outputs": [],
   "source": [
    "del epidemiology, demographics, economy, geography, health,filtered_grouped, grouped,filtered_mob,mob,wet,filtered_wet"
   ]
  },
  {
   "cell_type": "code",
   "execution_count": 69,
   "id": "f684efbd",
   "metadata": {},
   "outputs": [],
   "source": [
    "gc.collect();"
   ]
  },
  {
   "cell_type": "code",
   "execution_count": 70,
   "id": "95263089",
   "metadata": {},
   "outputs": [],
   "source": [
    "country.set_index('location_key', inplace=True)"
   ]
  },
  {
   "cell_type": "markdown",
   "id": "6197f751",
   "metadata": {},
   "source": [
    "## Building k-means Country Clustering Model"
   ]
  },
  {
   "cell_type": "markdown",
   "id": "08d9009d",
   "metadata": {},
   "source": [
    "### **1. Preparing the Dataset for Clustering Analysis**"
   ]
  },
  {
   "cell_type": "code",
   "execution_count": 71,
   "id": "70d9c522",
   "metadata": {},
   "outputs": [],
   "source": [
    "country_cluster = country[['cumulative_confirmed', 'cumulative_deceased', 'cumulative_tested',\n",
    "       'population_rural', 'population_urban', 'population_density',\n",
    "       'human_development_index', 'gdp_per_capita_usd', 'human_capital_index','area_sq_km', 'life_expectancy',\n",
    "       'smoking_prevalence', 'diabetes_prevalence', 'pollution_mortality_rate',\n",
    "       'comorbidity_mortality_rate', 'nurses_per_1000', 'physicians_per_1000',\n",
    "       'health_expenditure_usd','stringency_index', 'mobility_retail_and_recreation',\n",
    "       'mobility_grocery_and_pharmacy', 'mobility_parks',\n",
    "       'mobility_transit_stations', 'mobility_workplaces',\n",
    "       'mobility_residential', 'average_temperature_celsius',\n",
    "       'relative_humidity']]"
   ]
  },
  {
   "cell_type": "code",
   "execution_count": 72,
   "id": "c2d0d54e",
   "metadata": {},
   "outputs": [
    {
     "data": {
      "text/html": [
       "<div>\n",
       "<style scoped>\n",
       "    .dataframe tbody tr th:only-of-type {\n",
       "        vertical-align: middle;\n",
       "    }\n",
       "\n",
       "    .dataframe tbody tr th {\n",
       "        vertical-align: top;\n",
       "    }\n",
       "\n",
       "    .dataframe thead th {\n",
       "        text-align: right;\n",
       "    }\n",
       "</style>\n",
       "<table border=\"1\" class=\"dataframe\">\n",
       "  <thead>\n",
       "    <tr style=\"text-align: right;\">\n",
       "      <th></th>\n",
       "      <th>cumulative_confirmed</th>\n",
       "      <th>cumulative_deceased</th>\n",
       "      <th>cumulative_tested</th>\n",
       "      <th>population_rural</th>\n",
       "      <th>population_urban</th>\n",
       "      <th>population_density</th>\n",
       "      <th>human_development_index</th>\n",
       "      <th>gdp_per_capita_usd</th>\n",
       "      <th>human_capital_index</th>\n",
       "      <th>area_sq_km</th>\n",
       "      <th>life_expectancy</th>\n",
       "      <th>smoking_prevalence</th>\n",
       "      <th>diabetes_prevalence</th>\n",
       "      <th>pollution_mortality_rate</th>\n",
       "      <th>comorbidity_mortality_rate</th>\n",
       "      <th>nurses_per_1000</th>\n",
       "      <th>physicians_per_1000</th>\n",
       "      <th>health_expenditure_usd</th>\n",
       "      <th>stringency_index</th>\n",
       "      <th>mobility_retail_and_recreation</th>\n",
       "      <th>mobility_grocery_and_pharmacy</th>\n",
       "      <th>mobility_parks</th>\n",
       "      <th>mobility_transit_stations</th>\n",
       "      <th>mobility_workplaces</th>\n",
       "      <th>mobility_residential</th>\n",
       "      <th>average_temperature_celsius</th>\n",
       "      <th>relative_humidity</th>\n",
       "    </tr>\n",
       "  </thead>\n",
       "  <tbody>\n",
       "    <tr>\n",
       "      <th>0</th>\n",
       "      <td>-0.37</td>\n",
       "      <td>-0.84</td>\n",
       "      <td>4.07</td>\n",
       "      <td>-1.01</td>\n",
       "      <td>0.93</td>\n",
       "      <td>-0.25</td>\n",
       "      <td>0.76</td>\n",
       "      <td>1.13</td>\n",
       "      <td>0.37</td>\n",
       "      <td>-0.37</td>\n",
       "      <td>0.47</td>\n",
       "      <td>0.83</td>\n",
       "      <td>2.16</td>\n",
       "      <td>-0.28</td>\n",
       "      <td>-0.04</td>\n",
       "      <td>0.09</td>\n",
       "      <td>0.24</td>\n",
       "      <td>-0.06</td>\n",
       "      <td>0.35</td>\n",
       "      <td>0.07</td>\n",
       "      <td>0.10</td>\n",
       "      <td>-1.08</td>\n",
       "      <td>-0.56</td>\n",
       "      <td>0.22</td>\n",
       "      <td>0.49</td>\n",
       "      <td>1.24</td>\n",
       "      <td>-1.27</td>\n",
       "    </tr>\n",
       "    <tr>\n",
       "      <th>1</th>\n",
       "      <td>0.49</td>\n",
       "      <td>1.03</td>\n",
       "      <td>-0.42</td>\n",
       "      <td>-1.24</td>\n",
       "      <td>1.21</td>\n",
       "      <td>-0.57</td>\n",
       "      <td>0.50</td>\n",
       "      <td>-0.42</td>\n",
       "      <td>0.04</td>\n",
       "      <td>0.71</td>\n",
       "      <td>0.28</td>\n",
       "      <td>0.07</td>\n",
       "      <td>-0.42</td>\n",
       "      <td>-0.69</td>\n",
       "      <td>-0.22</td>\n",
       "      <td>-0.60</td>\n",
       "      <td>1.19</td>\n",
       "      <td>-0.08</td>\n",
       "      <td>1.39</td>\n",
       "      <td>-1.41</td>\n",
       "      <td>-0.52</td>\n",
       "      <td>-1.67</td>\n",
       "      <td>-0.54</td>\n",
       "      <td>0.59</td>\n",
       "      <td>0.45</td>\n",
       "      <td>-0.10</td>\n",
       "      <td>-0.77</td>\n",
       "    </tr>\n",
       "    <tr>\n",
       "      <th>2</th>\n",
       "      <td>1.66</td>\n",
       "      <td>0.46</td>\n",
       "      <td>5.47</td>\n",
       "      <td>0.31</td>\n",
       "      <td>-0.27</td>\n",
       "      <td>-0.28</td>\n",
       "      <td>1.07</td>\n",
       "      <td>1.52</td>\n",
       "      <td>1.30</td>\n",
       "      <td>-0.37</td>\n",
       "      <td>1.04</td>\n",
       "      <td>0.91</td>\n",
       "      <td>-0.24</td>\n",
       "      <td>-0.85</td>\n",
       "      <td>-1.05</td>\n",
       "      <td>0.40</td>\n",
       "      <td>1.95</td>\n",
       "      <td>1.72</td>\n",
       "      <td>-0.40</td>\n",
       "      <td>-1.08</td>\n",
       "      <td>-0.75</td>\n",
       "      <td>0.48</td>\n",
       "      <td>-0.52</td>\n",
       "      <td>-0.96</td>\n",
       "      <td>-0.20</td>\n",
       "      <td>-1.17</td>\n",
       "      <td>0.70</td>\n",
       "    </tr>\n",
       "    <tr>\n",
       "      <th>3</th>\n",
       "      <td>0.01</td>\n",
       "      <td>-0.85</td>\n",
       "      <td>0.21</td>\n",
       "      <td>-0.98</td>\n",
       "      <td>0.93</td>\n",
       "      <td>-0.61</td>\n",
       "      <td>1.28</td>\n",
       "      <td>1.68</td>\n",
       "      <td>1.37</td>\n",
       "      <td>2.68</td>\n",
       "      <td>1.17</td>\n",
       "      <td>-0.69</td>\n",
       "      <td>-0.49</td>\n",
       "      <td>-0.95</td>\n",
       "      <td>-1.48</td>\n",
       "      <td>1.61</td>\n",
       "      <td>0.98</td>\n",
       "      <td>1.92</td>\n",
       "      <td>-0.82</td>\n",
       "      <td>-0.07</td>\n",
       "      <td>-0.38</td>\n",
       "      <td>-0.69</td>\n",
       "      <td>-1.41</td>\n",
       "      <td>-0.09</td>\n",
       "      <td>0.14</td>\n",
       "      <td>0.22</td>\n",
       "      <td>-2.01</td>\n",
       "    </tr>\n",
       "    <tr>\n",
       "      <th>4</th>\n",
       "      <td>-0.18</td>\n",
       "      <td>2.38</td>\n",
       "      <td>-0.47</td>\n",
       "      <td>0.78</td>\n",
       "      <td>-0.70</td>\n",
       "      <td>-0.42</td>\n",
       "      <td>-0.13</td>\n",
       "      <td>-0.60</td>\n",
       "      <td>0.09</td>\n",
       "      <td>-0.38</td>\n",
       "      <td>0.39</td>\n",
       "      <td>1.91</td>\n",
       "      <td>0.35</td>\n",
       "      <td>0.08</td>\n",
       "      <td>0.15</td>\n",
       "      <td>0.09</td>\n",
       "      <td>0.00</td>\n",
       "      <td>-0.51</td>\n",
       "      <td>0.64</td>\n",
       "      <td>0.44</td>\n",
       "      <td>0.52</td>\n",
       "      <td>0.10</td>\n",
       "      <td>0.33</td>\n",
       "      <td>0.42</td>\n",
       "      <td>-2.49</td>\n",
       "      <td>-0.89</td>\n",
       "      <td>0.28</td>\n",
       "    </tr>\n",
       "  </tbody>\n",
       "</table>\n",
       "</div>"
      ],
      "text/plain": [
       "   cumulative_confirmed  cumulative_deceased  cumulative_tested  \\\n",
       "0                 -0.37                -0.84               4.07   \n",
       "1                  0.49                 1.03              -0.42   \n",
       "2                  1.66                 0.46               5.47   \n",
       "3                  0.01                -0.85               0.21   \n",
       "4                 -0.18                 2.38              -0.47   \n",
       "\n",
       "   population_rural  population_urban  population_density  \\\n",
       "0             -1.01              0.93               -0.25   \n",
       "1             -1.24              1.21               -0.57   \n",
       "2              0.31             -0.27               -0.28   \n",
       "3             -0.98              0.93               -0.61   \n",
       "4              0.78             -0.70               -0.42   \n",
       "\n",
       "   human_development_index  gdp_per_capita_usd  human_capital_index  \\\n",
       "0                     0.76                1.13                 0.37   \n",
       "1                     0.50               -0.42                 0.04   \n",
       "2                     1.07                1.52                 1.30   \n",
       "3                     1.28                1.68                 1.37   \n",
       "4                    -0.13               -0.60                 0.09   \n",
       "\n",
       "   area_sq_km  life_expectancy  smoking_prevalence  diabetes_prevalence  \\\n",
       "0       -0.37             0.47                0.83                 2.16   \n",
       "1        0.71             0.28                0.07                -0.42   \n",
       "2       -0.37             1.04                0.91                -0.24   \n",
       "3        2.68             1.17               -0.69                -0.49   \n",
       "4       -0.38             0.39                1.91                 0.35   \n",
       "\n",
       "   pollution_mortality_rate  comorbidity_mortality_rate  nurses_per_1000  \\\n",
       "0                     -0.28                       -0.04             0.09   \n",
       "1                     -0.69                       -0.22            -0.60   \n",
       "2                     -0.85                       -1.05             0.40   \n",
       "3                     -0.95                       -1.48             1.61   \n",
       "4                      0.08                        0.15             0.09   \n",
       "\n",
       "   physicians_per_1000  health_expenditure_usd  stringency_index  \\\n",
       "0                 0.24                   -0.06              0.35   \n",
       "1                 1.19                   -0.08              1.39   \n",
       "2                 1.95                    1.72             -0.40   \n",
       "3                 0.98                    1.92             -0.82   \n",
       "4                 0.00                   -0.51              0.64   \n",
       "\n",
       "   mobility_retail_and_recreation  mobility_grocery_and_pharmacy  \\\n",
       "0                            0.07                           0.10   \n",
       "1                           -1.41                          -0.52   \n",
       "2                           -1.08                          -0.75   \n",
       "3                           -0.07                          -0.38   \n",
       "4                            0.44                           0.52   \n",
       "\n",
       "   mobility_parks  mobility_transit_stations  mobility_workplaces  \\\n",
       "0           -1.08                      -0.56                 0.22   \n",
       "1           -1.67                      -0.54                 0.59   \n",
       "2            0.48                      -0.52                -0.96   \n",
       "3           -0.69                      -1.41                -0.09   \n",
       "4            0.10                       0.33                 0.42   \n",
       "\n",
       "   mobility_residential  average_temperature_celsius  relative_humidity  \n",
       "0                  0.49                         1.24              -1.27  \n",
       "1                  0.45                        -0.10              -0.77  \n",
       "2                 -0.20                        -1.17               0.70  \n",
       "3                  0.14                         0.22              -2.01  \n",
       "4                 -2.49                        -0.89               0.28  "
      ]
     },
     "execution_count": 72,
     "metadata": {},
     "output_type": "execute_result"
    }
   ],
   "source": [
    "# Scaling the country data\n",
    "scaler = preprocessing.StandardScaler()\n",
    "scaled_country = scaler.fit_transform(country_cluster)\n",
    "scaled_country= pd.DataFrame(scaled_country)\n",
    "\n",
    "# Changing the colnames to its original value\n",
    "scaled_country.columns = country_cluster.columns\n",
    "\n",
    "# Checking for the scaled data\n",
    "scaled_country.head()"
   ]
  },
  {
   "cell_type": "markdown",
   "id": "5a6fbec6",
   "metadata": {},
   "source": [
    "### **2. Constructing an Elbow Chart**"
   ]
  },
  {
   "cell_type": "code",
   "execution_count": 73,
   "id": "f6e83d28",
   "metadata": {},
   "outputs": [
    {
     "data": {
      "image/png": "[encoded data removed]",
      "text/plain": [
       "<Figure size 640x480 with 1 Axes>"
      ]
     },
     "metadata": {},
     "output_type": "display_data"
    }
   ],
   "source": [
    "# Initializing empty list for SSE calculation\n",
    "sse = {}\n",
    "for k in range(1, 15): \n",
    "# Initialize KMeans with k clusters\n",
    "    kmeans = KMeans(n_clusters=k, random_state=296)\n",
    "# Fit KMeans on the normalized dataset\n",
    "    kmeans.fit(scaled_country)\n",
    "    sse[k] = kmeans.inertia_\n",
    "# Add the plot title \"The Elbow Method\"\n",
    "plt.title('The Elbow Method')\n",
    "# Add X-axis label \"k\"\n",
    "plt.xlabel('k')\n",
    "# Add Y-axis label \"SSE\"\n",
    "plt.ylabel('SSE')\n",
    "sns.pointplot(x=list(sse.keys()), y=list(sse.values()));"
   ]
  },
  {
   "cell_type": "markdown",
   "id": "158976f3",
   "metadata": {},
   "source": [
    "Looking at the above elbow chart, the  SSE seems to drastically drop when transitioning from k=1 to k=5 while the rest of the k seems only contribute to small decrease in the SSE. Further analysis would need to be done in detail for k=3 to k=5 to check which number of cluster that might be best to describe the country cluster that has clear separation between variables and easy to understand and digging deeper for further analysis."
   ]
  },
  {
   "cell_type": "markdown",
   "id": "f24a3b60",
   "metadata": {},
   "source": [
    "### 3. Checking for k=3 to k=4 cluster characteristics"
   ]
  },
  {
   "cell_type": "code",
   "execution_count": 74,
   "id": "074ff0f4",
   "metadata": {},
   "outputs": [
    {
     "data": {
      "text/html": [
       "<div>\n",
       "<style scoped>\n",
       "    .dataframe tbody tr th:only-of-type {\n",
       "        vertical-align: middle;\n",
       "    }\n",
       "\n",
       "    .dataframe tbody tr th {\n",
       "        vertical-align: top;\n",
       "    }\n",
       "\n",
       "    .dataframe thead tr th {\n",
       "        text-align: left;\n",
       "    }\n",
       "\n",
       "    .dataframe thead tr:last-of-type th {\n",
       "        text-align: right;\n",
       "    }\n",
       "</style>\n",
       "<table border=\"1\" class=\"dataframe\">\n",
       "  <thead>\n",
       "    <tr>\n",
       "      <th></th>\n",
       "      <th>cumulative_confirmed</th>\n",
       "      <th>cumulative_deceased</th>\n",
       "      <th>cumulative_tested</th>\n",
       "      <th>population_rural</th>\n",
       "      <th>population_urban</th>\n",
       "      <th>population_density</th>\n",
       "      <th>human_development_index</th>\n",
       "      <th>gdp_per_capita_usd</th>\n",
       "      <th>human_capital_index</th>\n",
       "      <th>area_sq_km</th>\n",
       "      <th>life_expectancy</th>\n",
       "      <th>smoking_prevalence</th>\n",
       "      <th>diabetes_prevalence</th>\n",
       "      <th>pollution_mortality_rate</th>\n",
       "      <th>comorbidity_mortality_rate</th>\n",
       "      <th>nurses_per_1000</th>\n",
       "      <th>physicians_per_1000</th>\n",
       "      <th>health_expenditure_usd</th>\n",
       "      <th>stringency_index</th>\n",
       "      <th>mobility_retail_and_recreation</th>\n",
       "      <th>mobility_grocery_and_pharmacy</th>\n",
       "      <th>mobility_parks</th>\n",
       "      <th>mobility_transit_stations</th>\n",
       "      <th>mobility_workplaces</th>\n",
       "      <th>mobility_residential</th>\n",
       "      <th>average_temperature_celsius</th>\n",
       "      <th colspan=\"2\" halign=\"left\">relative_humidity</th>\n",
       "    </tr>\n",
       "    <tr>\n",
       "      <th></th>\n",
       "      <th>mean</th>\n",
       "      <th>mean</th>\n",
       "      <th>mean</th>\n",
       "      <th>mean</th>\n",
       "      <th>mean</th>\n",
       "      <th>mean</th>\n",
       "      <th>mean</th>\n",
       "      <th>mean</th>\n",
       "      <th>mean</th>\n",
       "      <th>mean</th>\n",
       "      <th>mean</th>\n",
       "      <th>mean</th>\n",
       "      <th>mean</th>\n",
       "      <th>mean</th>\n",
       "      <th>mean</th>\n",
       "      <th>mean</th>\n",
       "      <th>mean</th>\n",
       "      <th>mean</th>\n",
       "      <th>mean</th>\n",
       "      <th>mean</th>\n",
       "      <th>mean</th>\n",
       "      <th>mean</th>\n",
       "      <th>mean</th>\n",
       "      <th>mean</th>\n",
       "      <th>mean</th>\n",
       "      <th>mean</th>\n",
       "      <th>mean</th>\n",
       "      <th>count</th>\n",
       "    </tr>\n",
       "    <tr>\n",
       "      <th>Cluster</th>\n",
       "      <th></th>\n",
       "      <th></th>\n",
       "      <th></th>\n",
       "      <th></th>\n",
       "      <th></th>\n",
       "      <th></th>\n",
       "      <th></th>\n",
       "      <th></th>\n",
       "      <th></th>\n",
       "      <th></th>\n",
       "      <th></th>\n",
       "      <th></th>\n",
       "      <th></th>\n",
       "      <th></th>\n",
       "      <th></th>\n",
       "      <th></th>\n",
       "      <th></th>\n",
       "      <th></th>\n",
       "      <th></th>\n",
       "      <th></th>\n",
       "      <th></th>\n",
       "      <th></th>\n",
       "      <th></th>\n",
       "      <th></th>\n",
       "      <th></th>\n",
       "      <th></th>\n",
       "      <th></th>\n",
       "      <th></th>\n",
       "    </tr>\n",
       "  </thead>\n",
       "  <tbody>\n",
       "    <tr>\n",
       "      <th>0</th>\n",
       "      <td>-0.87</td>\n",
       "      <td>-0.87</td>\n",
       "      <td>-0.55</td>\n",
       "      <td>1.09</td>\n",
       "      <td>-1.13</td>\n",
       "      <td>-0.03</td>\n",
       "      <td>-1.42</td>\n",
       "      <td>-0.80</td>\n",
       "      <td>-1.28</td>\n",
       "      <td>-0.18</td>\n",
       "      <td>-1.42</td>\n",
       "      <td>-0.77</td>\n",
       "      <td>-0.52</td>\n",
       "      <td>1.37</td>\n",
       "      <td>0.82</td>\n",
       "      <td>-0.85</td>\n",
       "      <td>-1.13</td>\n",
       "      <td>-0.70</td>\n",
       "      <td>-0.29</td>\n",
       "      <td>1.32</td>\n",
       "      <td>1.06</td>\n",
       "      <td>0.19</td>\n",
       "      <td>1.33</td>\n",
       "      <td>1.26</td>\n",
       "      <td>-0.33</td>\n",
       "      <td>0.64</td>\n",
       "      <td>-0.47</td>\n",
       "      <td>22</td>\n",
       "    </tr>\n",
       "    <tr>\n",
       "      <th>1</th>\n",
       "      <td>-0.28</td>\n",
       "      <td>0.08</td>\n",
       "      <td>-0.23</td>\n",
       "      <td>-0.14</td>\n",
       "      <td>0.16</td>\n",
       "      <td>0.06</td>\n",
       "      <td>0.03</td>\n",
       "      <td>-0.33</td>\n",
       "      <td>-0.22</td>\n",
       "      <td>-0.06</td>\n",
       "      <td>0.10</td>\n",
       "      <td>-0.13</td>\n",
       "      <td>0.60</td>\n",
       "      <td>-0.13</td>\n",
       "      <td>0.10</td>\n",
       "      <td>-0.40</td>\n",
       "      <td>-0.22</td>\n",
       "      <td>-0.43</td>\n",
       "      <td>0.52</td>\n",
       "      <td>-0.59</td>\n",
       "      <td>-0.38</td>\n",
       "      <td>-0.90</td>\n",
       "      <td>-0.46</td>\n",
       "      <td>-0.26</td>\n",
       "      <td>0.43</td>\n",
       "      <td>0.54</td>\n",
       "      <td>-0.15</td>\n",
       "      <td>36</td>\n",
       "    </tr>\n",
       "    <tr>\n",
       "      <th>2</th>\n",
       "      <td>0.86</td>\n",
       "      <td>0.48</td>\n",
       "      <td>0.60</td>\n",
       "      <td>-0.55</td>\n",
       "      <td>0.56</td>\n",
       "      <td>-0.04</td>\n",
       "      <td>0.89</td>\n",
       "      <td>0.87</td>\n",
       "      <td>1.07</td>\n",
       "      <td>0.18</td>\n",
       "      <td>0.81</td>\n",
       "      <td>0.63</td>\n",
       "      <td>-0.30</td>\n",
       "      <td>-0.75</td>\n",
       "      <td>-0.64</td>\n",
       "      <td>0.98</td>\n",
       "      <td>0.96</td>\n",
       "      <td>0.91</td>\n",
       "      <td>-0.36</td>\n",
       "      <td>-0.23</td>\n",
       "      <td>-0.29</td>\n",
       "      <td>0.84</td>\n",
       "      <td>-0.37</td>\n",
       "      <td>-0.54</td>\n",
       "      <td>-0.24</td>\n",
       "      <td>-0.99</td>\n",
       "      <td>0.47</td>\n",
       "      <td>34</td>\n",
       "    </tr>\n",
       "  </tbody>\n",
       "</table>\n",
       "</div>"
      ],
      "text/plain": [
       "        cumulative_confirmed cumulative_deceased cumulative_tested  \\\n",
       "                        mean                mean              mean   \n",
       "Cluster                                                              \n",
       "0                      -0.87               -0.87             -0.55   \n",
       "1                      -0.28                0.08             -0.23   \n",
       "2                       0.86                0.48              0.60   \n",
       "\n",
       "        population_rural population_urban population_density  \\\n",
       "                    mean             mean               mean   \n",
       "Cluster                                                        \n",
       "0                   1.09            -1.13              -0.03   \n",
       "1                  -0.14             0.16               0.06   \n",
       "2                  -0.55             0.56              -0.04   \n",
       "\n",
       "        human_development_index gdp_per_capita_usd human_capital_index  \\\n",
       "                           mean               mean                mean   \n",
       "Cluster                                                                  \n",
       "0                         -1.42              -0.80               -1.28   \n",
       "1                          0.03              -0.33               -0.22   \n",
       "2                          0.89               0.87                1.07   \n",
       "\n",
       "        area_sq_km life_expectancy smoking_prevalence diabetes_prevalence  \\\n",
       "              mean            mean               mean                mean   \n",
       "Cluster                                                                     \n",
       "0            -0.18           -1.42              -0.77               -0.52   \n",
       "1            -0.06            0.10              -0.13                0.60   \n",
       "2             0.18            0.81               0.63               -0.30   \n",
       "\n",
       "        pollution_mortality_rate comorbidity_mortality_rate nurses_per_1000  \\\n",
       "                            mean                       mean            mean   \n",
       "Cluster                                                                       \n",
       "0                           1.37                       0.82           -0.85   \n",
       "1                          -0.13                       0.10           -0.40   \n",
       "2                          -0.75                      -0.64            0.98   \n",
       "\n",
       "        physicians_per_1000 health_expenditure_usd stringency_index  \\\n",
       "                       mean                   mean             mean   \n",
       "Cluster                                                               \n",
       "0                     -1.13                  -0.70            -0.29   \n",
       "1                     -0.22                  -0.43             0.52   \n",
       "2                      0.96                   0.91            -0.36   \n",
       "\n",
       "        mobility_retail_and_recreation mobility_grocery_and_pharmacy  \\\n",
       "                                  mean                          mean   \n",
       "Cluster                                                                \n",
       "0                                 1.32                          1.06   \n",
       "1                                -0.59                         -0.38   \n",
       "2                                -0.23                         -0.29   \n",
       "\n",
       "        mobility_parks mobility_transit_stations mobility_workplaces  \\\n",
       "                  mean                      mean                mean   \n",
       "Cluster                                                                \n",
       "0                 0.19                      1.33                1.26   \n",
       "1                -0.90                     -0.46               -0.26   \n",
       "2                 0.84                     -0.37               -0.54   \n",
       "\n",
       "        mobility_residential average_temperature_celsius relative_humidity  \\\n",
       "                        mean                        mean              mean   \n",
       "Cluster                                                                      \n",
       "0                      -0.33                        0.64             -0.47   \n",
       "1                       0.43                        0.54             -0.15   \n",
       "2                      -0.24                       -0.99              0.47   \n",
       "\n",
       "               \n",
       "        count  \n",
       "Cluster        \n",
       "0          22  \n",
       "1          36  \n",
       "2          34  "
      ]
     },
     "execution_count": 74,
     "metadata": {},
     "output_type": "execute_result"
    }
   ],
   "source": [
    "# Number of cluster equals to 3\n",
    "kmeans3 = KMeans(n_clusters=3, random_state=296)\n",
    "kmeans3.fit(scaled_country)\n",
    "cluster_labels3 = kmeans3.labels_\n",
    "\n",
    "k_means3 = scaled_country.assign(Cluster = cluster_labels3)\n",
    "k_means3.groupby(['Cluster']).agg({\n",
    "'cumulative_confirmed': ['mean'],\n",
    "'cumulative_deceased':['mean'],\n",
    "'cumulative_tested': ['mean'],\n",
    "'population_rural': ['mean'],\n",
    "'population_urban': ['mean'],\n",
    "'population_density': ['mean'],\n",
    "'human_development_index': ['mean'],\n",
    "'gdp_per_capita_usd': ['mean'],\n",
    "'human_capital_index': ['mean'],\n",
    "'area_sq_km': ['mean'],\n",
    "'life_expectancy': ['mean'],\n",
    "'smoking_prevalence': ['mean'],\n",
    "'diabetes_prevalence': ['mean'],\n",
    "'pollution_mortality_rate': ['mean'],\n",
    "'comorbidity_mortality_rate': ['mean'],\n",
    "'nurses_per_1000': ['mean'],\n",
    "'physicians_per_1000': ['mean'],\n",
    "'health_expenditure_usd': ['mean'],\n",
    "'stringency_index': ['mean'],    \n",
    "'mobility_retail_and_recreation': ['mean'],\n",
    "'mobility_grocery_and_pharmacy': ['mean'],\n",
    "'mobility_parks': ['mean'],\n",
    "'mobility_transit_stations': ['mean'],\n",
    "'mobility_workplaces': ['mean'],\n",
    "'mobility_residential': ['mean'],\n",
    "'average_temperature_celsius': ['mean'],\n",
    "'relative_humidity': ['mean','count'],\n",
    "}).round(2)"
   ]
  },
  {
   "cell_type": "markdown",
   "id": "541fb3f4",
   "metadata": {},
   "source": [
    "k equals to 3 quick results:\n",
    "\n",
    "1. cumulative confirmed: nicely split\n",
    "2. cumulative deceased: very nicely split\n",
    "3. cumulative tested: nicely split\n",
    "4. population rural: nicely split\n",
    "5. population urban: nicely split\n",
    "6. population density: not nicely split, cluster 0, 1, and 2 has around the same density\n",
    "7. human development index: very nicely split\n",
    "8. gdp per capita (USD): nicely split\n",
    "9. human capital index: very nicely split\n",
    "10. area sq (km): not nicely split, cluster 0 and 1 has around the same size\n",
    "11. life expectancy: very nicely split\n",
    "12. smoking prevalence: very nicely split\n",
    "13. diabetes prevalence: nicely split\n",
    "14. pollution mortality rate: very nicely split #proxy to air quality\n",
    "15. comorbidity mortality rate: very nicely split #proxy to other major disease condition\n",
    "16. nurses per 1000: very nicely split\n",
    "17. physicians per 1000: very nicely split\n",
    "18. health expenditure (USD): very nicely split\n",
    "19. stringency index: not nicely split, cluster 0 and 2 has around the same stringency index\n",
    "20. mobility retail and recreation: very nicely split\n",
    "21. mobility grocery and pharmacy: not nicely split, cluster 1 and 2 has around the same value\n",
    "22. mobility parks: very nicely split\n",
    "23. mobility transit stations: nicely split\n",
    "24. mobility workplaces: nicely split\n",
    "25. mobility residential: not nicely cluster 0 and 2 has around the same mobility for residential\n",
    "26. average temperature: not nicely split cluster 1 and 2 has around the same average temperature during the first two years of pandemic\n",
    "27. relative humidity: nicely split\n",
    "\n",
    "Tally\n",
    "\n",
    "Number of nicely split variables: 21 \n",
    "Number of ambiguous variables: 6"
   ]
  },
  {
   "cell_type": "code",
   "execution_count": 75,
   "id": "71379154",
   "metadata": {},
   "outputs": [
    {
     "data": {
      "text/html": [
       "<div>\n",
       "<style scoped>\n",
       "    .dataframe tbody tr th:only-of-type {\n",
       "        vertical-align: middle;\n",
       "    }\n",
       "\n",
       "    .dataframe tbody tr th {\n",
       "        vertical-align: top;\n",
       "    }\n",
       "\n",
       "    .dataframe thead tr th {\n",
       "        text-align: left;\n",
       "    }\n",
       "\n",
       "    .dataframe thead tr:last-of-type th {\n",
       "        text-align: right;\n",
       "    }\n",
       "</style>\n",
       "<table border=\"1\" class=\"dataframe\">\n",
       "  <thead>\n",
       "    <tr>\n",
       "      <th></th>\n",
       "      <th>cumulative_confirmed</th>\n",
       "      <th>cumulative_deceased</th>\n",
       "      <th>cumulative_tested</th>\n",
       "      <th>population_rural</th>\n",
       "      <th>population_urban</th>\n",
       "      <th>population_density</th>\n",
       "      <th>human_development_index</th>\n",
       "      <th>gdp_per_capita_usd</th>\n",
       "      <th>human_capital_index</th>\n",
       "      <th>area_sq_km</th>\n",
       "      <th>life_expectancy</th>\n",
       "      <th>smoking_prevalence</th>\n",
       "      <th>diabetes_prevalence</th>\n",
       "      <th>pollution_mortality_rate</th>\n",
       "      <th>comorbidity_mortality_rate</th>\n",
       "      <th>nurses_per_1000</th>\n",
       "      <th>physicians_per_1000</th>\n",
       "      <th>health_expenditure_usd</th>\n",
       "      <th>mobility_retail_and_recreation</th>\n",
       "      <th>mobility_grocery_and_pharmacy</th>\n",
       "      <th>mobility_parks</th>\n",
       "      <th>mobility_transit_stations</th>\n",
       "      <th>mobility_workplaces</th>\n",
       "      <th>mobility_residential</th>\n",
       "      <th>average_temperature_celsius</th>\n",
       "      <th colspan=\"2\" halign=\"left\">relative_humidity</th>\n",
       "    </tr>\n",
       "    <tr>\n",
       "      <th></th>\n",
       "      <th>mean</th>\n",
       "      <th>mean</th>\n",
       "      <th>mean</th>\n",
       "      <th>mean</th>\n",
       "      <th>mean</th>\n",
       "      <th>mean</th>\n",
       "      <th>mean</th>\n",
       "      <th>mean</th>\n",
       "      <th>mean</th>\n",
       "      <th>mean</th>\n",
       "      <th>mean</th>\n",
       "      <th>mean</th>\n",
       "      <th>mean</th>\n",
       "      <th>mean</th>\n",
       "      <th>mean</th>\n",
       "      <th>mean</th>\n",
       "      <th>mean</th>\n",
       "      <th>mean</th>\n",
       "      <th>mean</th>\n",
       "      <th>mean</th>\n",
       "      <th>mean</th>\n",
       "      <th>mean</th>\n",
       "      <th>mean</th>\n",
       "      <th>mean</th>\n",
       "      <th>mean</th>\n",
       "      <th>mean</th>\n",
       "      <th>count</th>\n",
       "    </tr>\n",
       "    <tr>\n",
       "      <th>Cluster</th>\n",
       "      <th></th>\n",
       "      <th></th>\n",
       "      <th></th>\n",
       "      <th></th>\n",
       "      <th></th>\n",
       "      <th></th>\n",
       "      <th></th>\n",
       "      <th></th>\n",
       "      <th></th>\n",
       "      <th></th>\n",
       "      <th></th>\n",
       "      <th></th>\n",
       "      <th></th>\n",
       "      <th></th>\n",
       "      <th></th>\n",
       "      <th></th>\n",
       "      <th></th>\n",
       "      <th></th>\n",
       "      <th></th>\n",
       "      <th></th>\n",
       "      <th></th>\n",
       "      <th></th>\n",
       "      <th></th>\n",
       "      <th></th>\n",
       "      <th></th>\n",
       "      <th></th>\n",
       "      <th></th>\n",
       "    </tr>\n",
       "  </thead>\n",
       "  <tbody>\n",
       "    <tr>\n",
       "      <th>0</th>\n",
       "      <td>-0.87</td>\n",
       "      <td>-0.87</td>\n",
       "      <td>-0.55</td>\n",
       "      <td>1.09</td>\n",
       "      <td>-1.13</td>\n",
       "      <td>-0.03</td>\n",
       "      <td>-1.42</td>\n",
       "      <td>-0.80</td>\n",
       "      <td>-1.28</td>\n",
       "      <td>-0.18</td>\n",
       "      <td>-1.42</td>\n",
       "      <td>-0.77</td>\n",
       "      <td>-0.52</td>\n",
       "      <td>1.37</td>\n",
       "      <td>0.82</td>\n",
       "      <td>-0.85</td>\n",
       "      <td>-1.13</td>\n",
       "      <td>-0.70</td>\n",
       "      <td>1.32</td>\n",
       "      <td>1.06</td>\n",
       "      <td>0.19</td>\n",
       "      <td>1.33</td>\n",
       "      <td>1.26</td>\n",
       "      <td>-0.33</td>\n",
       "      <td>0.64</td>\n",
       "      <td>-0.47</td>\n",
       "      <td>22</td>\n",
       "    </tr>\n",
       "    <tr>\n",
       "      <th>1</th>\n",
       "      <td>0.72</td>\n",
       "      <td>-0.02</td>\n",
       "      <td>0.70</td>\n",
       "      <td>-0.86</td>\n",
       "      <td>0.86</td>\n",
       "      <td>0.16</td>\n",
       "      <td>1.08</td>\n",
       "      <td>1.46</td>\n",
       "      <td>1.20</td>\n",
       "      <td>0.20</td>\n",
       "      <td>1.07</td>\n",
       "      <td>0.19</td>\n",
       "      <td>-0.22</td>\n",
       "      <td>-0.89</td>\n",
       "      <td>-1.24</td>\n",
       "      <td>1.30</td>\n",
       "      <td>0.88</td>\n",
       "      <td>1.60</td>\n",
       "      <td>-0.27</td>\n",
       "      <td>-0.43</td>\n",
       "      <td>0.71</td>\n",
       "      <td>-0.65</td>\n",
       "      <td>-0.64</td>\n",
       "      <td>0.06</td>\n",
       "      <td>-0.86</td>\n",
       "      <td>0.41</td>\n",
       "      <td>21</td>\n",
       "    </tr>\n",
       "    <tr>\n",
       "      <th>2</th>\n",
       "      <td>0.94</td>\n",
       "      <td>1.37</td>\n",
       "      <td>0.34</td>\n",
       "      <td>0.03</td>\n",
       "      <td>-0.02</td>\n",
       "      <td>-0.38</td>\n",
       "      <td>0.53</td>\n",
       "      <td>-0.13</td>\n",
       "      <td>0.74</td>\n",
       "      <td>0.09</td>\n",
       "      <td>0.37</td>\n",
       "      <td>1.36</td>\n",
       "      <td>-0.35</td>\n",
       "      <td>-0.46</td>\n",
       "      <td>0.34</td>\n",
       "      <td>0.43</td>\n",
       "      <td>0.99</td>\n",
       "      <td>-0.24</td>\n",
       "      <td>-0.14</td>\n",
       "      <td>-0.03</td>\n",
       "      <td>0.89</td>\n",
       "      <td>0.07</td>\n",
       "      <td>-0.32</td>\n",
       "      <td>-0.88</td>\n",
       "      <td>-1.18</td>\n",
       "      <td>0.55</td>\n",
       "      <td>15</td>\n",
       "    </tr>\n",
       "    <tr>\n",
       "      <th>3</th>\n",
       "      <td>-0.30</td>\n",
       "      <td>-0.03</td>\n",
       "      <td>-0.23</td>\n",
       "      <td>-0.19</td>\n",
       "      <td>0.21</td>\n",
       "      <td>0.09</td>\n",
       "      <td>0.02</td>\n",
       "      <td>-0.32</td>\n",
       "      <td>-0.24</td>\n",
       "      <td>-0.05</td>\n",
       "      <td>0.09</td>\n",
       "      <td>-0.22</td>\n",
       "      <td>0.63</td>\n",
       "      <td>-0.13</td>\n",
       "      <td>0.08</td>\n",
       "      <td>-0.44</td>\n",
       "      <td>-0.25</td>\n",
       "      <td>-0.42</td>\n",
       "      <td>-0.63</td>\n",
       "      <td>-0.41</td>\n",
       "      <td>-0.95</td>\n",
       "      <td>-0.49</td>\n",
       "      <td>-0.28</td>\n",
       "      <td>0.56</td>\n",
       "      <td>0.64</td>\n",
       "      <td>-0.19</td>\n",
       "      <td>34</td>\n",
       "    </tr>\n",
       "  </tbody>\n",
       "</table>\n",
       "</div>"
      ],
      "text/plain": [
       "        cumulative_confirmed cumulative_deceased cumulative_tested  \\\n",
       "                        mean                mean              mean   \n",
       "Cluster                                                              \n",
       "0                      -0.87               -0.87             -0.55   \n",
       "1                       0.72               -0.02              0.70   \n",
       "2                       0.94                1.37              0.34   \n",
       "3                      -0.30               -0.03             -0.23   \n",
       "\n",
       "        population_rural population_urban population_density  \\\n",
       "                    mean             mean               mean   \n",
       "Cluster                                                        \n",
       "0                   1.09            -1.13              -0.03   \n",
       "1                  -0.86             0.86               0.16   \n",
       "2                   0.03            -0.02              -0.38   \n",
       "3                  -0.19             0.21               0.09   \n",
       "\n",
       "        human_development_index gdp_per_capita_usd human_capital_index  \\\n",
       "                           mean               mean                mean   \n",
       "Cluster                                                                  \n",
       "0                         -1.42              -0.80               -1.28   \n",
       "1                          1.08               1.46                1.20   \n",
       "2                          0.53              -0.13                0.74   \n",
       "3                          0.02              -0.32               -0.24   \n",
       "\n",
       "        area_sq_km life_expectancy smoking_prevalence diabetes_prevalence  \\\n",
       "              mean            mean               mean                mean   \n",
       "Cluster                                                                     \n",
       "0            -0.18           -1.42              -0.77               -0.52   \n",
       "1             0.20            1.07               0.19               -0.22   \n",
       "2             0.09            0.37               1.36               -0.35   \n",
       "3            -0.05            0.09              -0.22                0.63   \n",
       "\n",
       "        pollution_mortality_rate comorbidity_mortality_rate nurses_per_1000  \\\n",
       "                            mean                       mean            mean   \n",
       "Cluster                                                                       \n",
       "0                           1.37                       0.82           -0.85   \n",
       "1                          -0.89                      -1.24            1.30   \n",
       "2                          -0.46                       0.34            0.43   \n",
       "3                          -0.13                       0.08           -0.44   \n",
       "\n",
       "        physicians_per_1000 health_expenditure_usd  \\\n",
       "                       mean                   mean   \n",
       "Cluster                                              \n",
       "0                     -1.13                  -0.70   \n",
       "1                      0.88                   1.60   \n",
       "2                      0.99                  -0.24   \n",
       "3                     -0.25                  -0.42   \n",
       "\n",
       "        mobility_retail_and_recreation mobility_grocery_and_pharmacy  \\\n",
       "                                  mean                          mean   \n",
       "Cluster                                                                \n",
       "0                                 1.32                          1.06   \n",
       "1                                -0.27                         -0.43   \n",
       "2                                -0.14                         -0.03   \n",
       "3                                -0.63                         -0.41   \n",
       "\n",
       "        mobility_parks mobility_transit_stations mobility_workplaces  \\\n",
       "                  mean                      mean                mean   \n",
       "Cluster                                                                \n",
       "0                 0.19                      1.33                1.26   \n",
       "1                 0.71                     -0.65               -0.64   \n",
       "2                 0.89                      0.07               -0.32   \n",
       "3                -0.95                     -0.49               -0.28   \n",
       "\n",
       "        mobility_residential average_temperature_celsius relative_humidity  \\\n",
       "                        mean                        mean              mean   \n",
       "Cluster                                                                      \n",
       "0                      -0.33                        0.64             -0.47   \n",
       "1                       0.06                       -0.86              0.41   \n",
       "2                      -0.88                       -1.18              0.55   \n",
       "3                       0.56                        0.64             -0.19   \n",
       "\n",
       "               \n",
       "        count  \n",
       "Cluster        \n",
       "0          22  \n",
       "1          21  \n",
       "2          15  \n",
       "3          34  "
      ]
     },
     "execution_count": 75,
     "metadata": {},
     "output_type": "execute_result"
    }
   ],
   "source": [
    "# Number of cluster equals to 4\n",
    "kmeans4 = KMeans(n_clusters=4, random_state=296)\n",
    "kmeans4.fit(scaled_country)\n",
    "cluster_labels4 = kmeans4.labels_\n",
    "\n",
    "k_means4 = scaled_country.assign(Cluster = cluster_labels4)\n",
    "k_means4.groupby(['Cluster']).agg({\n",
    "'cumulative_confirmed': ['mean'],\n",
    "'cumulative_deceased':['mean'],\n",
    "'cumulative_tested': ['mean'],\n",
    "'population_rural': ['mean'],\n",
    "'population_urban': ['mean'],\n",
    "'population_density': ['mean'],\n",
    "'human_development_index': ['mean'],\n",
    "'gdp_per_capita_usd': ['mean'],\n",
    "'human_capital_index': ['mean'],\n",
    "'area_sq_km': ['mean'],\n",
    "'life_expectancy': ['mean'],\n",
    "'smoking_prevalence': ['mean'],\n",
    "'diabetes_prevalence': ['mean'],\n",
    "'pollution_mortality_rate': ['mean'],\n",
    "'comorbidity_mortality_rate': ['mean'],\n",
    "'nurses_per_1000': ['mean'],\n",
    "'physicians_per_1000': ['mean'],\n",
    "'health_expenditure_usd': ['mean'],\n",
    "'mobility_retail_and_recreation': ['mean'],\n",
    "'mobility_grocery_and_pharmacy': ['mean'],\n",
    "'mobility_parks': ['mean'],\n",
    "'mobility_transit_stations': ['mean'],\n",
    "'mobility_workplaces': ['mean'],\n",
    "'mobility_residential': ['mean'],\n",
    "'average_temperature_celsius': ['mean'],\n",
    "'relative_humidity': ['mean','count'],\n",
    "}).round(2)"
   ]
  },
  {
   "cell_type": "markdown",
   "id": "943eaa14",
   "metadata": {},
   "source": [
    "k equals to 4 quick results:\n",
    "\n",
    "1. cumulative confirmed: nicely split\n",
    "2. cumulative deceased: not nicely split\n",
    "3. cumulative tested: nicely split\n",
    "4. population rural: nicely split\n",
    "5. population urban: nicely split\n",
    "6. population density: not nicely split\n",
    "7. human development index: very nicely split\n",
    "8. gdp per capita (USD): nicely split\n",
    "9. human capital index: very nicely split\n",
    "10. area sq (km): not nicely split, cluster 0 and 1 has around the same size\n",
    "11. life expectancy: very nicely split\n",
    "12. smoking prevalence: very nicely split\n",
    "13. diabetes prevalence: not nicely split\n",
    "14. pollution mortality rate: very nicely split #proxy to air quality\n",
    "15. comorbidity mortality rate: very nicely split #proxy to other major disease condition\n",
    "16. nurses per 1000: very nicely split\n",
    "17. physicians per 1000: not nicely split\n",
    "18. health expenditure (USD): very nicely split\n",
    "19. stringency index: not nicely split, cluster 0 and 2 has around the same stringency index\n",
    "20. mobility retail and recreation: not nicely split\n",
    "21. mobility grocery and pharmacy: not nicely split, cluster 1 and 2 has around the same value\n",
    "22. mobility parks: not nicely split\n",
    "23. mobility transit stations: not nicely split\n",
    "24. mobility workplaces: not nicely split\n",
    "25. mobility residential: nicely split\n",
    "26. average temperature: not nicely split\n",
    "27. relative humidity: nicely split\n",
    "\n",
    "Tally\n",
    "\n",
    "Number of nicely split variables: 15 \n",
    "Number of ambiguous variables: 12"
   ]
  },
  {
   "cell_type": "code",
   "execution_count": 76,
   "id": "8f4c2e95",
   "metadata": {},
   "outputs": [
    {
     "data": {
      "text/html": [
       "<div>\n",
       "<style scoped>\n",
       "    .dataframe tbody tr th:only-of-type {\n",
       "        vertical-align: middle;\n",
       "    }\n",
       "\n",
       "    .dataframe tbody tr th {\n",
       "        vertical-align: top;\n",
       "    }\n",
       "\n",
       "    .dataframe thead tr th {\n",
       "        text-align: left;\n",
       "    }\n",
       "\n",
       "    .dataframe thead tr:last-of-type th {\n",
       "        text-align: right;\n",
       "    }\n",
       "</style>\n",
       "<table border=\"1\" class=\"dataframe\">\n",
       "  <thead>\n",
       "    <tr>\n",
       "      <th></th>\n",
       "      <th>cumulative_confirmed</th>\n",
       "      <th>cumulative_deceased</th>\n",
       "      <th>cumulative_tested</th>\n",
       "      <th>population_rural</th>\n",
       "      <th>population_urban</th>\n",
       "      <th>population_density</th>\n",
       "      <th>human_development_index</th>\n",
       "      <th>gdp_per_capita_usd</th>\n",
       "      <th>human_capital_index</th>\n",
       "      <th>area_sq_km</th>\n",
       "      <th>life_expectancy</th>\n",
       "      <th>smoking_prevalence</th>\n",
       "      <th>diabetes_prevalence</th>\n",
       "      <th>pollution_mortality_rate</th>\n",
       "      <th>comorbidity_mortality_rate</th>\n",
       "      <th>nurses_per_1000</th>\n",
       "      <th>physicians_per_1000</th>\n",
       "      <th>health_expenditure_usd</th>\n",
       "      <th>mobility_retail_and_recreation</th>\n",
       "      <th>mobility_grocery_and_pharmacy</th>\n",
       "      <th>mobility_parks</th>\n",
       "      <th>mobility_transit_stations</th>\n",
       "      <th>mobility_workplaces</th>\n",
       "      <th>mobility_residential</th>\n",
       "      <th>average_temperature_celsius</th>\n",
       "      <th colspan=\"2\" halign=\"left\">relative_humidity</th>\n",
       "    </tr>\n",
       "    <tr>\n",
       "      <th></th>\n",
       "      <th>mean</th>\n",
       "      <th>mean</th>\n",
       "      <th>mean</th>\n",
       "      <th>mean</th>\n",
       "      <th>mean</th>\n",
       "      <th>mean</th>\n",
       "      <th>mean</th>\n",
       "      <th>mean</th>\n",
       "      <th>mean</th>\n",
       "      <th>mean</th>\n",
       "      <th>mean</th>\n",
       "      <th>mean</th>\n",
       "      <th>mean</th>\n",
       "      <th>mean</th>\n",
       "      <th>mean</th>\n",
       "      <th>mean</th>\n",
       "      <th>mean</th>\n",
       "      <th>mean</th>\n",
       "      <th>mean</th>\n",
       "      <th>mean</th>\n",
       "      <th>mean</th>\n",
       "      <th>mean</th>\n",
       "      <th>mean</th>\n",
       "      <th>mean</th>\n",
       "      <th>mean</th>\n",
       "      <th>mean</th>\n",
       "      <th>count</th>\n",
       "    </tr>\n",
       "    <tr>\n",
       "      <th>Cluster</th>\n",
       "      <th></th>\n",
       "      <th></th>\n",
       "      <th></th>\n",
       "      <th></th>\n",
       "      <th></th>\n",
       "      <th></th>\n",
       "      <th></th>\n",
       "      <th></th>\n",
       "      <th></th>\n",
       "      <th></th>\n",
       "      <th></th>\n",
       "      <th></th>\n",
       "      <th></th>\n",
       "      <th></th>\n",
       "      <th></th>\n",
       "      <th></th>\n",
       "      <th></th>\n",
       "      <th></th>\n",
       "      <th></th>\n",
       "      <th></th>\n",
       "      <th></th>\n",
       "      <th></th>\n",
       "      <th></th>\n",
       "      <th></th>\n",
       "      <th></th>\n",
       "      <th></th>\n",
       "      <th></th>\n",
       "    </tr>\n",
       "  </thead>\n",
       "  <tbody>\n",
       "    <tr>\n",
       "      <th>0</th>\n",
       "      <td>-0.14</td>\n",
       "      <td>0.14</td>\n",
       "      <td>-0.14</td>\n",
       "      <td>-0.59</td>\n",
       "      <td>0.60</td>\n",
       "      <td>0.09</td>\n",
       "      <td>0.19</td>\n",
       "      <td>-0.20</td>\n",
       "      <td>-0.12</td>\n",
       "      <td>-0.06</td>\n",
       "      <td>0.30</td>\n",
       "      <td>-0.33</td>\n",
       "      <td>0.80</td>\n",
       "      <td>-0.43</td>\n",
       "      <td>-0.27</td>\n",
       "      <td>-0.35</td>\n",
       "      <td>-0.04</td>\n",
       "      <td>-0.35</td>\n",
       "      <td>-0.57</td>\n",
       "      <td>-0.35</td>\n",
       "      <td>-0.98</td>\n",
       "      <td>-0.40</td>\n",
       "      <td>-0.16</td>\n",
       "      <td>0.39</td>\n",
       "      <td>0.58</td>\n",
       "      <td>-0.35</td>\n",
       "      <td>26</td>\n",
       "    </tr>\n",
       "    <tr>\n",
       "      <th>1</th>\n",
       "      <td>-0.85</td>\n",
       "      <td>-0.87</td>\n",
       "      <td>-0.54</td>\n",
       "      <td>0.98</td>\n",
       "      <td>-1.03</td>\n",
       "      <td>-0.14</td>\n",
       "      <td>-1.40</td>\n",
       "      <td>-0.79</td>\n",
       "      <td>-1.29</td>\n",
       "      <td>-0.14</td>\n",
       "      <td>-1.48</td>\n",
       "      <td>-0.78</td>\n",
       "      <td>-0.52</td>\n",
       "      <td>1.39</td>\n",
       "      <td>0.79</td>\n",
       "      <td>-0.86</td>\n",
       "      <td>-1.11</td>\n",
       "      <td>-0.70</td>\n",
       "      <td>1.55</td>\n",
       "      <td>1.40</td>\n",
       "      <td>0.28</td>\n",
       "      <td>1.58</td>\n",
       "      <td>1.51</td>\n",
       "      <td>-0.57</td>\n",
       "      <td>0.65</td>\n",
       "      <td>-0.71</td>\n",
       "      <td>18</td>\n",
       "    </tr>\n",
       "    <tr>\n",
       "      <th>2</th>\n",
       "      <td>0.94</td>\n",
       "      <td>1.37</td>\n",
       "      <td>0.34</td>\n",
       "      <td>0.03</td>\n",
       "      <td>-0.02</td>\n",
       "      <td>-0.38</td>\n",
       "      <td>0.53</td>\n",
       "      <td>-0.13</td>\n",
       "      <td>0.74</td>\n",
       "      <td>0.09</td>\n",
       "      <td>0.37</td>\n",
       "      <td>1.36</td>\n",
       "      <td>-0.35</td>\n",
       "      <td>-0.46</td>\n",
       "      <td>0.34</td>\n",
       "      <td>0.43</td>\n",
       "      <td>0.99</td>\n",
       "      <td>-0.24</td>\n",
       "      <td>-0.14</td>\n",
       "      <td>-0.03</td>\n",
       "      <td>0.89</td>\n",
       "      <td>0.07</td>\n",
       "      <td>-0.32</td>\n",
       "      <td>-0.88</td>\n",
       "      <td>-1.18</td>\n",
       "      <td>0.55</td>\n",
       "      <td>15</td>\n",
       "    </tr>\n",
       "    <tr>\n",
       "      <th>3</th>\n",
       "      <td>-0.85</td>\n",
       "      <td>-0.68</td>\n",
       "      <td>-0.52</td>\n",
       "      <td>1.28</td>\n",
       "      <td>-1.24</td>\n",
       "      <td>0.21</td>\n",
       "      <td>-0.87</td>\n",
       "      <td>-0.77</td>\n",
       "      <td>-0.84</td>\n",
       "      <td>-0.12</td>\n",
       "      <td>-0.79</td>\n",
       "      <td>-0.14</td>\n",
       "      <td>-0.12</td>\n",
       "      <td>0.99</td>\n",
       "      <td>1.14</td>\n",
       "      <td>-0.77</td>\n",
       "      <td>-1.02</td>\n",
       "      <td>-0.68</td>\n",
       "      <td>-0.45</td>\n",
       "      <td>-0.56</td>\n",
       "      <td>-0.64</td>\n",
       "      <td>-0.46</td>\n",
       "      <td>-0.38</td>\n",
       "      <td>1.00</td>\n",
       "      <td>0.74</td>\n",
       "      <td>0.41</td>\n",
       "      <td>12</td>\n",
       "    </tr>\n",
       "    <tr>\n",
       "      <th>4</th>\n",
       "      <td>0.72</td>\n",
       "      <td>-0.02</td>\n",
       "      <td>0.70</td>\n",
       "      <td>-0.86</td>\n",
       "      <td>0.86</td>\n",
       "      <td>0.16</td>\n",
       "      <td>1.08</td>\n",
       "      <td>1.46</td>\n",
       "      <td>1.20</td>\n",
       "      <td>0.20</td>\n",
       "      <td>1.07</td>\n",
       "      <td>0.19</td>\n",
       "      <td>-0.22</td>\n",
       "      <td>-0.89</td>\n",
       "      <td>-1.24</td>\n",
       "      <td>1.30</td>\n",
       "      <td>0.88</td>\n",
       "      <td>1.60</td>\n",
       "      <td>-0.27</td>\n",
       "      <td>-0.43</td>\n",
       "      <td>0.71</td>\n",
       "      <td>-0.65</td>\n",
       "      <td>-0.64</td>\n",
       "      <td>0.06</td>\n",
       "      <td>-0.86</td>\n",
       "      <td>0.41</td>\n",
       "      <td>21</td>\n",
       "    </tr>\n",
       "  </tbody>\n",
       "</table>\n",
       "</div>"
      ],
      "text/plain": [
       "        cumulative_confirmed cumulative_deceased cumulative_tested  \\\n",
       "                        mean                mean              mean   \n",
       "Cluster                                                              \n",
       "0                      -0.14                0.14             -0.14   \n",
       "1                      -0.85               -0.87             -0.54   \n",
       "2                       0.94                1.37              0.34   \n",
       "3                      -0.85               -0.68             -0.52   \n",
       "4                       0.72               -0.02              0.70   \n",
       "\n",
       "        population_rural population_urban population_density  \\\n",
       "                    mean             mean               mean   \n",
       "Cluster                                                        \n",
       "0                  -0.59             0.60               0.09   \n",
       "1                   0.98            -1.03              -0.14   \n",
       "2                   0.03            -0.02              -0.38   \n",
       "3                   1.28            -1.24               0.21   \n",
       "4                  -0.86             0.86               0.16   \n",
       "\n",
       "        human_development_index gdp_per_capita_usd human_capital_index  \\\n",
       "                           mean               mean                mean   \n",
       "Cluster                                                                  \n",
       "0                          0.19              -0.20               -0.12   \n",
       "1                         -1.40              -0.79               -1.29   \n",
       "2                          0.53              -0.13                0.74   \n",
       "3                         -0.87              -0.77               -0.84   \n",
       "4                          1.08               1.46                1.20   \n",
       "\n",
       "        area_sq_km life_expectancy smoking_prevalence diabetes_prevalence  \\\n",
       "              mean            mean               mean                mean   \n",
       "Cluster                                                                     \n",
       "0            -0.06            0.30              -0.33                0.80   \n",
       "1            -0.14           -1.48              -0.78               -0.52   \n",
       "2             0.09            0.37               1.36               -0.35   \n",
       "3            -0.12           -0.79              -0.14               -0.12   \n",
       "4             0.20            1.07               0.19               -0.22   \n",
       "\n",
       "        pollution_mortality_rate comorbidity_mortality_rate nurses_per_1000  \\\n",
       "                            mean                       mean            mean   \n",
       "Cluster                                                                       \n",
       "0                          -0.43                      -0.27           -0.35   \n",
       "1                           1.39                       0.79           -0.86   \n",
       "2                          -0.46                       0.34            0.43   \n",
       "3                           0.99                       1.14           -0.77   \n",
       "4                          -0.89                      -1.24            1.30   \n",
       "\n",
       "        physicians_per_1000 health_expenditure_usd  \\\n",
       "                       mean                   mean   \n",
       "Cluster                                              \n",
       "0                     -0.04                  -0.35   \n",
       "1                     -1.11                  -0.70   \n",
       "2                      0.99                  -0.24   \n",
       "3                     -1.02                  -0.68   \n",
       "4                      0.88                   1.60   \n",
       "\n",
       "        mobility_retail_and_recreation mobility_grocery_and_pharmacy  \\\n",
       "                                  mean                          mean   \n",
       "Cluster                                                                \n",
       "0                                -0.57                         -0.35   \n",
       "1                                 1.55                          1.40   \n",
       "2                                -0.14                         -0.03   \n",
       "3                                -0.45                         -0.56   \n",
       "4                                -0.27                         -0.43   \n",
       "\n",
       "        mobility_parks mobility_transit_stations mobility_workplaces  \\\n",
       "                  mean                      mean                mean   \n",
       "Cluster                                                                \n",
       "0                -0.98                     -0.40               -0.16   \n",
       "1                 0.28                      1.58                1.51   \n",
       "2                 0.89                      0.07               -0.32   \n",
       "3                -0.64                     -0.46               -0.38   \n",
       "4                 0.71                     -0.65               -0.64   \n",
       "\n",
       "        mobility_residential average_temperature_celsius relative_humidity  \\\n",
       "                        mean                        mean              mean   \n",
       "Cluster                                                                      \n",
       "0                       0.39                        0.58             -0.35   \n",
       "1                      -0.57                        0.65             -0.71   \n",
       "2                      -0.88                       -1.18              0.55   \n",
       "3                       1.00                        0.74              0.41   \n",
       "4                       0.06                       -0.86              0.41   \n",
       "\n",
       "               \n",
       "        count  \n",
       "Cluster        \n",
       "0          26  \n",
       "1          18  \n",
       "2          15  \n",
       "3          12  \n",
       "4          21  "
      ]
     },
     "execution_count": 76,
     "metadata": {},
     "output_type": "execute_result"
    }
   ],
   "source": [
    "# Number of cluster equals to 5\n",
    "kmeans5 = KMeans(n_clusters=5, random_state=296)\n",
    "kmeans5.fit(scaled_country)\n",
    "cluster_labels5 = kmeans5.labels_\n",
    "\n",
    "k_means5 = scaled_country.assign(Cluster = cluster_labels5)\n",
    "k_means5.groupby(['Cluster']).agg({\n",
    "'cumulative_confirmed': ['mean'],\n",
    "'cumulative_deceased':['mean'],\n",
    "'cumulative_tested': ['mean'],\n",
    "'population_rural': ['mean'],\n",
    "'population_urban': ['mean'],\n",
    "'population_density': ['mean'],\n",
    "'human_development_index': ['mean'],\n",
    "'gdp_per_capita_usd': ['mean'],\n",
    "'human_capital_index': ['mean'],\n",
    "'area_sq_km': ['mean'],\n",
    "'life_expectancy': ['mean'],\n",
    "'smoking_prevalence': ['mean'],\n",
    "'diabetes_prevalence': ['mean'],\n",
    "'pollution_mortality_rate': ['mean'],\n",
    "'comorbidity_mortality_rate': ['mean'],\n",
    "'nurses_per_1000': ['mean'],\n",
    "'physicians_per_1000': ['mean'],\n",
    "'health_expenditure_usd': ['mean'],\n",
    "'mobility_retail_and_recreation': ['mean'],\n",
    "'mobility_grocery_and_pharmacy': ['mean'],\n",
    "'mobility_parks': ['mean'],\n",
    "'mobility_transit_stations': ['mean'],\n",
    "'mobility_workplaces': ['mean'],\n",
    "'mobility_residential': ['mean'],\n",
    "'average_temperature_celsius': ['mean'],\n",
    "'relative_humidity': ['mean','count'],\n",
    "}).round(2)"
   ]
  },
  {
   "cell_type": "markdown",
   "id": "c5f16eb6",
   "metadata": {},
   "source": [
    "k equals to 5 quick results:\n",
    "\n",
    "1. cumulative confirmed: not nicely split\n",
    "2. cumulative deceased: not nicely split\n",
    "3. cumulative tested: not nicely split\n",
    "4. population rural: nicely split\n",
    "5. population urban: not nicely split\n",
    "6. population density: not nicely split\n",
    "7. human development index: nicely split\n",
    "8. gdp per capita (USD): not nicely split\n",
    "9. human capital index: nicely split\n",
    "10. area sq (km): not nicely split\n",
    "11. life expectancy: not nicely split\n",
    "12. smoking prevalence: not nicely split\n",
    "13. diabetes prevalence: not nicely split\n",
    "14. pollution mortality rate: not nicely split #proxy to air quality\n",
    "15. comorbidity mortality rate: nicely split #proxy to other major disease condition\n",
    "16. nurses per 1000: not nicely split\n",
    "17. physicians per 1000: not nicely split\n",
    "18. health expenditure (USD): not nicely split\n",
    "19. stringency index: not nicely split\n",
    "20. mobility retail and recreation: not nicely split\n",
    "21. mobility grocery and pharmacy: not nicely split\n",
    "22. mobility parks: not nicely split\n",
    "23. mobility transit stations: not nicely split\n",
    "24. mobility workplaces: not nicely split\n",
    "25. mobility residential: not nicely split\n",
    "26. average temperature: not nicely split\n",
    "27. relative humidity: not nicely split\n",
    "\n",
    "Tally\n",
    "\n",
    "Number of nicely split variables: 4  \n",
    "Number of ambiguous variables: 23"
   ]
  },
  {
   "cell_type": "markdown",
   "id": "3fca5ba0",
   "metadata": {},
   "source": [
    "**Based on the cluster analysis above, it is apparent that k equals to 3 yields the best clusters with distinct characteristics**"
   ]
  },
  {
   "cell_type": "markdown",
   "id": "a61bb6e1",
   "metadata": {},
   "source": [
    "### Naming the Clusters"
   ]
  },
  {
   "cell_type": "markdown",
   "id": "d523c100",
   "metadata": {},
   "source": [
    "### Cluster 0: \"Vulnerable Rural Health Deficit\"\n",
    "- This cluster includes countries with a significant rural population, lower economic development, and healthcare vulnerabilities.\n",
    "- Despite having the lowest cumulative COVID-19 cases, challenges arise due to healthcare deficits and vulnerabilities in rural areas.\n",
    "- The highest mobility to retail, recreation, grocery, and pharmacy establishments suggests active engagement in these activities, possibly impacting virus transmission.\n",
    "- Weather conditions display the highest temperature and lowest humidity.\n",
    "\n",
    "### Cluster 1: \"Urban Diabetes Burden & Residential Refuges\"\n",
    "- Countries in this cluster have a moderate distribution of rural and urban populations with a moderate level of development.\n",
    "- Challenges arise from the highest percentage of people with diabetes, which requires targeted healthcare strategies.\n",
    "- Mobility patterns indicate lower engagement in non-essential activities and public spaces, but a relatively higher mobility to workplaces and residential areas.\n",
    "- Weather conditions feature the highest temperature and moderate humidity.\n",
    "\n",
    "### Cluster 2: \"Resilient Urban Health Capitals\"\n",
    "- This cluster consists of countries with high urbanization, strong economic development, and a well-prepared healthcare system.\n",
    "- They have faced significant epidemiological challenges with the highest cumulative confirmed, deceased, and tested COVID-19 cases.\n",
    "- The highest human capital index and GDP per capita indicate economic strength and prosperity.\n",
    "- The highest number of nurses and physicians, along with substantial health expenditure, reflects a well-equipped healthcare workforce and investment in healthcare infrastructure.\n",
    "- Mobility patterns show moderate mobility to various establishments, with remote work being more prevalent.\n",
    "- Weather conditions feature the lowest temperature and highest relative humidity."
   ]
  },
  {
   "cell_type": "markdown",
   "id": "6ae60a41",
   "metadata": {},
   "source": [
    "## Visualizing the Clusters"
   ]
  },
  {
   "cell_type": "markdown",
   "id": "c273103a",
   "metadata": {},
   "source": [
    "### 1. Preparing Clustered Datasets for Visualization"
   ]
  },
  {
   "cell_type": "code",
   "execution_count": 77,
   "id": "327481c0",
   "metadata": {},
   "outputs": [],
   "source": [
    "# Assigning back the cluster label to country_cluster dataset columns\n",
    "cluster = country_cluster.assign(cluster = cluster_labels3)\n",
    "cluster['cluster'] = cluster['cluster'].astype('category')\n",
    "\n",
    "# Renaming the cluster\n",
    "cluster['cluster'] = cluster['cluster'].cat.rename_categories({\n",
    "    0:'Vulnerable Rural Health Deficit',\n",
    "    1:'Urban Diabetes Burden & Residential Refuges',\n",
    "    2:'Resilient Urban Health Capitals',\n",
    "})"
   ]
  },
  {
   "cell_type": "code",
   "execution_count": 78,
   "id": "3fa1312a",
   "metadata": {},
   "outputs": [],
   "source": [
    "cluster.reset_index(inplace=True)"
   ]
  },
  {
   "cell_type": "code",
   "execution_count": 79,
   "id": "0e68df8f",
   "metadata": {},
   "outputs": [],
   "source": [
    "identifier = pd.DataFrame()\n",
    "identifier[['latitude','longitude']] = country[['latitude','longitude']]\n",
    "identifier.reset_index(inplace=True)"
   ]
  },
  {
   "cell_type": "code",
   "execution_count": 80,
   "id": "b3c7e42c",
   "metadata": {},
   "outputs": [],
   "source": [
    "identifier = identifier.merge(index, on='location_key')"
   ]
  },
  {
   "cell_type": "code",
   "execution_count": 81,
   "id": "9e8b56be",
   "metadata": {},
   "outputs": [],
   "source": [
    "cluster = cluster.merge(identifier, on='location_key')"
   ]
  },
  {
   "cell_type": "code",
   "execution_count": 82,
   "id": "95e39eb0",
   "metadata": {},
   "outputs": [],
   "source": [
    "cluster = cluster.sort_values(by=['cluster', 'country_name'], ascending=[True, True])"
   ]
  },
  {
   "cell_type": "code",
   "execution_count": 83,
   "id": "af804d93",
   "metadata": {},
   "outputs": [],
   "source": [
    "desired_columns_order = ['location_key', 'country_name', 'cluster', 'latitude', 'longitude',\n",
    "                         'cumulative_confirmed', 'cumulative_deceased', 'cumulative_tested',\n",
    "                         'population_rural', 'population_urban', 'population_density',\n",
    "                         'human_development_index', 'gdp_per_capita_usd',\n",
    "                         'human_capital_index', 'area_sq_km', 'life_expectancy',\n",
    "                         'smoking_prevalence', 'diabetes_prevalence',\n",
    "                         'pollution_mortality_rate', 'comorbidity_mortality_rate',\n",
    "                         'nurses_per_1000', 'physicians_per_1000',\n",
    "                         'health_expenditure_usd', 'stringency_index',\n",
    "                         'mobility_retail_and_recreation', 'mobility_grocery_and_pharmacy',\n",
    "                         'mobility_parks', 'mobility_transit_stations', 'mobility_workplaces',\n",
    "                         'mobility_residential', 'average_temperature_celsius',\n",
    "                         'relative_humidity']\n",
    "\n",
    "cluster = cluster.reindex(columns=desired_columns_order)\n",
    "cluster.reset_index(inplace=True)\n",
    "cluster.drop('index', axis=1, inplace=True)"
   ]
  },
  {
   "cell_type": "markdown",
   "id": "38de8d13",
   "metadata": {},
   "source": [
    "### 2. Interactive Scatterplot Between Features"
   ]
  },
  {
   "cell_type": "code",
   "execution_count": 84,
   "id": "2b3d68bf",
   "metadata": {
    "scrolled": false
   },
   "outputs": [
    {
     "data": {
      "text/html": [
       "\n",
       "        <iframe\n",
       "            width=\"100%\"\n",
       "            height=\"650\"\n",
       "            src=\"http://127.0.0.1:8082/\"\n",
       "            frameborder=\"0\"\n",
       "            allowfullscreen\n",
       "            \n",
       "        ></iframe>\n",
       "        "
      ],
      "text/plain": [
       "<IPython.lib.display.IFrame at 0x2a0c95bde70>"
      ]
     },
     "metadata": {},
     "output_type": "display_data"
    }
   ],
   "source": [
    "# Create a Dash app\n",
    "app = dash.Dash(__name__)\n",
    "\n",
    "# Available columns for X and Y axes (excluding latitude and longitude)\n",
    "available_columns = [col for col in cluster.columns if col not in ['latitude', 'longitude','location_key','country_name','cluster']]\n",
    "\n",
    "# Layout of the app\n",
    "app.layout = html.Div([\n",
    "    # Dropdown for X axis\n",
    "    html.Label(\"Select X-axis:\"),\n",
    "    dcc.Dropdown(\n",
    "        id='x-axis-dropdown',\n",
    "        options=[{'label': col, 'value': col} for col in available_columns],\n",
    "        value=available_columns[0]\n",
    "    ),\n",
    "    # Dropdown for Y axis\n",
    "    html.Label(\"Select Y-axis:\"),\n",
    "    dcc.Dropdown(\n",
    "        id='y-axis-dropdown',\n",
    "        options=[{'label': col, 'value': col} for col in available_columns],\n",
    "        value=available_columns[1]\n",
    "    ),\n",
    "    # Scatter plot\n",
    "    dcc.Graph(id='scatter-plot'),\n",
    "])\n",
    "\n",
    "# Callback to update the scatter plot\n",
    "@app.callback(\n",
    "    Output('scatter-plot', 'figure'),\n",
    "    Input('x-axis-dropdown', 'value'),\n",
    "    Input('y-axis-dropdown', 'value')\n",
    ")\n",
    "def update_scatter_plot(x_axis_col, y_axis_col):\n",
    "    fig = px.scatter(\n",
    "        cluster,\n",
    "        x=x_axis_col,\n",
    "        y=y_axis_col,\n",
    "        color='cluster',\n",
    "        hover_data=['country_name', x_axis_col, y_axis_col],  # Data shown in hover tooltip\n",
    "        labels={\n",
    "            'cluster': 'Cluster',\n",
    "            'country_name': 'Country',\n",
    "            x_axis_col: x_axis_col,\n",
    "            y_axis_col: y_axis_col\n",
    "        },\n",
    "        title=f\"Scatter plot of {y_axis_col} vs {x_axis_col}\",\n",
    "    )\n",
    "\n",
    "    # Update axis labels\n",
    "    fig.update_xaxes(title=x_axis_col)\n",
    "    fig.update_yaxes(title=y_axis_col)\n",
    "    \n",
    "    # Set the legend position to bottom center\n",
    "    fig.update_layout(legend=dict(orientation='h', yanchor='bottom', y=1.02, xanchor='center', x=0.5))\n",
    "\n",
    "    return fig\n",
    "\n",
    "# Run the app\n",
    "if __name__ == '__main__':\n",
    "    app.run_server(debug=True, port=8082)\n"
   ]
  },
  {
   "cell_type": "markdown",
   "id": "07cc3730",
   "metadata": {},
   "source": [
    "### 3. Cluster Map Distribution"
   ]
  },
  {
   "cell_type": "code",
   "execution_count": 85,
   "id": "8b0a551c",
   "metadata": {},
   "outputs": [
    {
     "data": {
      "text/html": [
       "\n",
       "        <iframe\n",
       "            width=\"100%\"\n",
       "            height=\"650\"\n",
       "            src=\"http://127.0.0.1:8085/\"\n",
       "            frameborder=\"0\"\n",
       "            allowfullscreen\n",
       "            \n",
       "        ></iframe>\n",
       "        "
      ],
      "text/plain": [
       "<IPython.lib.display.IFrame at 0x2a0c9428ac0>"
      ]
     },
     "metadata": {},
     "output_type": "display_data"
    }
   ],
   "source": [
    "# Create a Dash app\n",
    "app = dash.Dash(__name__)\n",
    "\n",
    "# Layout of the app\n",
    "app.layout = html.Div([\n",
    "    # Scatter map\n",
    "    dcc.Graph(id='scatter-map'),\n",
    "])\n",
    "\n",
    "# Callback to update the scatter map\n",
    "@app.callback(\n",
    "    Output('scatter-map', 'figure'),\n",
    "    Input('scatter-map', 'clickData')  # Use the click data from the scatter map to highlight the selected cluster\n",
    ")\n",
    "def update_scatter_map(click_data):\n",
    "    selected_cluster = None\n",
    "    if click_data:\n",
    "        selected_cluster = click_data['points'][0]['customdata']\n",
    "\n",
    "    # Scatter map\n",
    "    map_fig = px.scatter_geo(\n",
    "        cluster,\n",
    "        lat='latitude',\n",
    "        lon='longitude',\n",
    "        color='cluster',\n",
    "        hover_data=['country_name', 'cluster'],\n",
    "        labels={'cluster': 'Cluster'},\n",
    "        title='Geographical Map with Cluster Count',\n",
    "        custom_data=['cluster']  # Include the 'cluster' column in the custom data for clickData\n",
    "    )\n",
    "\n",
    "    # Update the selected cluster color in the map\n",
    "    if selected_cluster:\n",
    "        map_fig.update_traces(selectedpoints=[selected_cluster])\n",
    "\n",
    "    # Set the legend position to bottom center\n",
    "    map_fig.update_layout(legend=dict(orientation='h', yanchor='bottom', y=1.02, xanchor='center', x=0.5))\n",
    "\n",
    "    return map_fig\n",
    "\n",
    "# Run the app\n",
    "if __name__ == '__main__':\n",
    "    app.run_server(debug=True, port=8085)"
   ]
  },
  {
   "cell_type": "markdown",
   "id": "acb07484",
   "metadata": {},
   "source": [
    "### 4. Cluster Country Members: Vulnerable Rural Health Deficit"
   ]
  },
  {
   "cell_type": "code",
   "execution_count": 86,
   "id": "9e09684e",
   "metadata": {},
   "outputs": [],
   "source": [
    "vrhd_cluster = cluster[cluster['cluster'] == 'Vulnerable Rural Health Deficit'][['country_name']]\n",
    "vrhd_cluster.columns = ['Vulnerable Rural Health Deficit Cluster Country Members']"
   ]
  },
  {
   "cell_type": "code",
   "execution_count": 87,
   "id": "b26339ca",
   "metadata": {},
   "outputs": [
    {
     "data": {
      "image/png": "[encoded data removed]",
      "text/plain": [
       "<Figure size 1000x600 with 1 Axes>"
      ]
     },
     "metadata": {},
     "output_type": "display_data"
    }
   ],
   "source": [
    "country_names = vrhd_cluster['Vulnerable Rural Health Deficit Cluster Country Members']\n",
    "\n",
    "# Preprocess the text to replace spaces in multi-word country names with underscores\n",
    "country_names = country_names.str.replace(' ', '_')\n",
    "\n",
    "# WordCloud customization\n",
    "wordcloud = WordCloud(\n",
    "    width=800,\n",
    "    height=400,\n",
    "    background_color='white',\n",
    "    colormap='viridis',\n",
    "    contour_color='steelblue',\n",
    "    contour_width=2,\n",
    "    max_font_size=35,\n",
    "    min_word_length=3,\n",
    "    prefer_horizontal=1.0,\n",
    "    random_state=42\n",
    ").generate(' '.join(country_names))\n",
    "\n",
    "# Preprocess the word cloud image to display underscores as spaces\n",
    "wordcloud_image = wordcloud.to_image().convert('RGBA')\n",
    "wordcloud_image_data = wordcloud_image.getdata()\n",
    "new_image_data = [(r, g, b, a) if r != 255 and g != 255 and b != 255 else (255, 255, 255, 0) for r, g, b, a in wordcloud_image_data]\n",
    "wordcloud_image.putdata(new_image_data)\n",
    "\n",
    "plt.figure(figsize=(10, 6))\n",
    "plt.imshow(wordcloud_image, interpolation='bilinear')\n",
    "plt.axis('off')\n",
    "plt.title('Vulnerable Rural Health Deficit Cluster Country Members')\n",
    "plt.show()"
   ]
  },
  {
   "cell_type": "markdown",
   "id": "4b41535d",
   "metadata": {},
   "source": [
    "### 5. Cluster Country Members: Urban Diabetes Burden and Residential Refuges"
   ]
  },
  {
   "cell_type": "code",
   "execution_count": 88,
   "id": "b86c7a2d",
   "metadata": {},
   "outputs": [],
   "source": [
    "udbrr_cluster = cluster[cluster['cluster'] == 'Urban Diabetes Burden & Residential Refuges'][['country_name']]\n",
    "udbrr_cluster.columns = ['Urban Diabetes Burden and Residential Refuges']"
   ]
  },
  {
   "cell_type": "code",
   "execution_count": 89,
   "id": "6466270e",
   "metadata": {},
   "outputs": [
    {
     "data": {
      "image/png": "[encoded data removed]",
      "text/plain": [
       "<Figure size 1000x600 with 1 Axes>"
      ]
     },
     "metadata": {},
     "output_type": "display_data"
    }
   ],
   "source": [
    "country_names = udbrr_cluster['Urban Diabetes Burden and Residential Refuges']\n",
    "\n",
    "# Preprocess the text to replace spaces in multi-word country names with underscores\n",
    "country_names = country_names.str.replace(' ', '_')\n",
    "\n",
    "# WordCloud customization\n",
    "wordcloud = WordCloud(\n",
    "    width=800,\n",
    "    height=400,\n",
    "    background_color='white',\n",
    "    colormap='viridis',\n",
    "    contour_color='steelblue',\n",
    "    contour_width=1,\n",
    "    max_font_size=25,\n",
    "    min_word_length=3,\n",
    "    prefer_horizontal=1.0,\n",
    "    random_state=42\n",
    ").generate(' '.join(country_names))\n",
    "\n",
    "# Preprocess the word cloud image to display underscores as spaces\n",
    "wordcloud_image = wordcloud.to_image().convert('RGBA')\n",
    "wordcloud_image_data = wordcloud_image.getdata()\n",
    "new_image_data = [(r, g, b, a) if r != 255 and g != 255 and b != 255 else (255, 255, 255, 0) for r, g, b, a in wordcloud_image_data]\n",
    "wordcloud_image.putdata(new_image_data)\n",
    "\n",
    "plt.figure(figsize=(10, 6))\n",
    "plt.imshow(wordcloud_image, interpolation='bilinear')\n",
    "plt.axis('off')\n",
    "plt.title('Urban Diabetes Burden and Residential Refuges')\n",
    "plt.show()"
   ]
  },
  {
   "cell_type": "markdown",
   "id": "f41a6afd",
   "metadata": {},
   "source": [
    "### 6. Cluster Country Members: Resilient Urban Health Capitals"
   ]
  },
  {
   "cell_type": "code",
   "execution_count": 90,
   "id": "9e600fbe",
   "metadata": {},
   "outputs": [],
   "source": [
    "ruhc_cluster = cluster[cluster['cluster'] == 'Resilient Urban Health Capitals'][['country_name']]\n",
    "ruhc_cluster.columns = ['Resilient Urban Health Capitals']"
   ]
  },
  {
   "cell_type": "code",
   "execution_count": 91,
   "id": "9c8d688e",
   "metadata": {},
   "outputs": [
    {
     "data": {
      "image/png": "[encoded data removed]",
      "text/plain": [
       "<Figure size 1000x600 with 1 Axes>"
      ]
     },
     "metadata": {},
     "output_type": "display_data"
    }
   ],
   "source": [
    "country_names = ruhc_cluster['Resilient Urban Health Capitals']\n",
    "\n",
    "# Preprocess the text to replace spaces in multi-word country names with underscores\n",
    "country_names = country_names.str.replace(' ', '_')\n",
    "\n",
    "# WordCloud customization\n",
    "wordcloud = WordCloud(\n",
    "    width=800,\n",
    "    height=400,\n",
    "    background_color='white',\n",
    "    colormap='viridis',\n",
    "    contour_color='steelblue',\n",
    "    contour_width=1,\n",
    "    max_font_size=25,\n",
    "    min_word_length=3,\n",
    "    prefer_horizontal=1.0,\n",
    "    random_state=42\n",
    ").generate(' '.join(country_names))\n",
    "\n",
    "# Preprocess the word cloud image to display underscores as spaces\n",
    "wordcloud_image = wordcloud.to_image().convert('RGBA')\n",
    "wordcloud_image_data = wordcloud_image.getdata()\n",
    "new_image_data = [(r, g, b, a) if r != 255 and g != 255 and b != 255 else (255, 255, 255, 0) for r, g, b, a in wordcloud_image_data]\n",
    "wordcloud_image.putdata(new_image_data)\n",
    "\n",
    "plt.figure(figsize=(10, 6))\n",
    "plt.imshow(wordcloud_image, interpolation='bilinear')\n",
    "plt.axis('off')\n",
    "plt.title('Resilient Urban Health Capitals')\n",
    "plt.show()"
   ]
  }
 ],
 "metadata": {
  "kernelspec": {
   "display_name": "Python 3 (ipykernel)",
   "language": "python",
   "name": "python3"
  },
  "language_info": {
   "codemirror_mode": {
    "name": "ipython",
    "version": 3
   },
   "file_extension": ".py",
   "mimetype": "text/x-python",
   "name": "python",
   "nbconvert_exporter": "python",
   "pygments_lexer": "ipython3",
   "version": "3.10.9"
  }
 },
 "nbformat": 4,
 "nbformat_minor": 5
}
